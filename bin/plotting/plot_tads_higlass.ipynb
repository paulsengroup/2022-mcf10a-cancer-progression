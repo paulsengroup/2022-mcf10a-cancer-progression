{
 "cells": [
  {
   "cell_type": "code",
   "execution_count": 1,
   "id": "c2ec2992-ea73-42e4-9bfe-6c07cd39c4b5",
   "metadata": {},
   "outputs": [],
   "source": [
    "import higlass as hg\n",
    "import cooler\n",
    "import glob"
   ]
  },
  {
   "cell_type": "code",
   "execution_count": 2,
   "id": "7a8019e6-942e-4029-a49a-17b67a0c727e",
   "metadata": {},
   "outputs": [],
   "source": [
    "coords = \"chr1:44,000,000-68,000,000\"\n",
    "coolers = list(sorted(glob.glob(\"../../data/output/nfcore_hic/mcools/hg38_00?_MCF10A*.mcool\")))\n",
    "\n",
    "tads2d_10k = list(\n",
    "    sorted(glob.glob(\"../../data/output/tad_analysis/clodius/hg38_00?_MCF10A*_domains_ICE_10000_2D.beddb\"))\n",
    ")\n",
    "tads2d_20k = list(\n",
    "    sorted(glob.glob(\"../../data/output/tad_analysis/clodius/hg38_00?_MCF10A*_domains_ICE_20000_2D.beddb\"))\n",
    ")\n",
    "tads2d_50k = list(\n",
    "    sorted(glob.glob(\"../../data/output/tad_analysis/clodius/hg38_00?_MCF10A*_domains_ICE_50000_2D.beddb\"))\n",
    ")\n",
    "tads2d_100k = list(\n",
    "    sorted(glob.glob(\"../../data/output/tad_analysis/clodius/hg38_00?_MCF10A*_domains_ICE_100000_2D.beddb\"))\n",
    ")\n",
    "\n",
    "ins_10k = list(sorted(glob.glob(\"../../data/output/tad_analysis/ICE/10000/hg38_00?_MCF10A*.bw\")))\n",
    "ins_20k = list(sorted(glob.glob(\"../../data/output/tad_analysis/ICE/20000/hg38_00?_MCF10A*.bw\")))\n",
    "ins_50k = list(sorted(glob.glob(\"../../data/output/tad_analysis/ICE/50000/hg38_00?_MCF10A*.bw\")))\n",
    "ins_100k = list(sorted(glob.glob(\"../../data/output/tad_analysis/ICE/100000/hg38_00?_MCF10A*.bw\")))"
   ]
  },
  {
   "cell_type": "code",
   "execution_count": 3,
   "id": "a711c33a-7f92-4a4a-bd78-9fb0adadb85a",
   "metadata": {},
   "outputs": [],
   "source": [
    "def compute_domain(coords, clr: cooler.Cooler, padding=0.0):\n",
    "    df = clr.matrix(as_pixels=True).fetch(coords)\n",
    "\n",
    "    pos1 = df[\"bin1_id\"].min() * clr.binsize\n",
    "    pos2 = df[\"bin1_id\"].max() * clr.binsize\n",
    "\n",
    "    if padding != 0.0:\n",
    "        extent = pos2 - pos1\n",
    "        new_extent = int(padding * extent)\n",
    "        pos1 -= (new_extent - extent) // 2\n",
    "        pos2 += (new_extent - extent) // 2\n",
    "\n",
    "    return max(0, pos1), pos2"
   ]
  },
  {
   "cell_type": "markdown",
   "id": "cebcd8ff-d385-473c-8181-25e5e30d7497",
   "metadata": {},
   "source": [
    "## TADs as 2D domains"
   ]
  },
  {
   "cell_type": "code",
   "execution_count": 4,
   "id": "8fc14eb3-4395-4a4f-9a11-f5c3f31f5cdc",
   "metadata": {},
   "outputs": [
    {
     "data": {
      "text/html": [
       "\n",
       "<!DOCTYPE html>\n",
       "<html>\n",
       "  <head>\n",
       "    <link rel=\"stylesheet\" href=\"https://esm.sh/higlass@1.12/dist/hglib.css\">\n",
       "    <script src=\"https://unpkg.com/requirejs-toggle\"></script>\n",
       "    \n",
       "    <script src=\"https://unpkg.com/requirejs-toggle\"></script>\n",
       "  </head>\n",
       "  <body>\n",
       "    <div id=\"jupyter-hg-09ff527e28b94a1183afd57d8008a00b\"></div>\n",
       "  </body>\n",
       "  <script type=\"module\">\n",
       "    import hglib from \"https://esm.sh/higlass@1.12?deps=react@17,react-dom@17,pixi.js@6\";\n",
       "    hglib.viewer(\n",
       "      document.getElementById('jupyter-hg-09ff527e28b94a1183afd57d8008a00b'),\n",
       "      {\"editable\": true, \"viewEditable\": true, \"tracksEditable\": true, \"views\": [{\"layout\": {\"x\": 0, \"y\": 0, \"w\": 12, \"h\": 6}, \"tracks\": {\"top\": [{\"type\": \"combined\", \"uid\": \"5ee59d72-e309-4dbc-8d39-7b94dcdd95f6\", \"height\": 150, \"contents\": [{\"tilesetUid\": \"P0PLbQMwTYGy-5uPIQid7A\", \"server\": \"https://higlass.io/api/v1/\", \"type\": \"horizontal-gene-annotations\", \"uid\": \"cb9b5bd8-71a5-411f-8781-d2d64ee22a9b\", \"options\": {\"name\": \"hg38 Gene annotation\"}}, {\"tilesetUid\": \"691b56279e5f36cab017e040e7dd4bf2\", \"server\": \"http://localhost:40679/tilesets/api/v1/\", \"type\": \"chromosome-labels\", \"uid\": \"83d21695-cb7f-4ea2-9a6e-d5c6bf21a5b1\"}]}, {\"type\": \"combined\", \"uid\": \"be1b011f-bf25-46f8-8913-b71960b2e6cc\", \"height\": 70, \"contents\": [{\"tilesetUid\": \"691b56279e5f36cab017e040e7dd4bf2\", \"server\": \"http://localhost:40679/tilesets/api/v1/\", \"type\": \"linear-heatmap\", \"uid\": \"04f810bc-e8b2-42ae-9fee-16fa62f49c53\"}, {\"tilesetUid\": \"37b59a41512dd7b29a8e23ee9faa94fe\", \"server\": \"http://localhost:40679/tilesets/api/v1/\", \"type\": \"linear-2d-rectangle-domains\", \"uid\": \"3d246b50-ba22-4a90-ab6b-d761f9de2a80\"}]}, {\"type\": \"combined\", \"uid\": \"bff4ac53-88cd-4abb-87b3-d1b4eaff7e6a\", \"height\": 70, \"contents\": [{\"tilesetUid\": \"ad01de40dfecfd01d435287c167bd33b\", \"server\": \"http://localhost:40679/tilesets/api/v1/\", \"type\": \"linear-heatmap\", \"uid\": \"a187c19f-4e49-4ccc-bc66-33ab0955789d\"}, {\"tilesetUid\": \"d99d8524e24840c79a514cbddd5b477b\", \"server\": \"http://localhost:40679/tilesets/api/v1/\", \"type\": \"linear-2d-rectangle-domains\", \"uid\": \"f8a97d07-0237-4693-b9bc-1c0f36a7f438\"}]}, {\"type\": \"combined\", \"uid\": \"e7691230-e0aa-44dc-a398-2d3006570424\", \"height\": 70, \"contents\": [{\"tilesetUid\": \"335f43c2893812a8f8d92ac88375b18f\", \"server\": \"http://localhost:40679/tilesets/api/v1/\", \"type\": \"linear-heatmap\", \"uid\": \"867ca10b-7cd3-403c-aabe-1e80d18a7eda\"}, {\"tilesetUid\": \"7837de292fddf348e6808d9f8a7be466\", \"server\": \"http://localhost:40679/tilesets/api/v1/\", \"type\": \"linear-2d-rectangle-domains\", \"uid\": \"f82c2b55-16b8-4675-9861-ec35ce4e1ba7\"}]}, {\"type\": \"combined\", \"uid\": \"24ac4437-4eb1-4e7b-90ee-163e920b8d20\", \"height\": 70, \"contents\": [{\"tilesetUid\": \"4a8de3b966951cb85def4c4d9c1d2d7a\", \"server\": \"http://localhost:40679/tilesets/api/v1/\", \"type\": \"linear-heatmap\", \"uid\": \"32546302-e733-4195-9671-31d69b671ba5\"}, {\"tilesetUid\": \"3bf166c7be1edd41440cf7a8b608b4c9\", \"server\": \"http://localhost:40679/tilesets/api/v1/\", \"type\": \"linear-2d-rectangle-domains\", \"uid\": \"f03b7aa6-535e-4c5b-bb55-b97a9c86e351\"}]}, {\"type\": \"combined\", \"uid\": \"4d83348b-e7a1-4655-ae56-2a95b91b52ed\", \"height\": 70, \"contents\": [{\"tilesetUid\": \"1b9842a1ee691f500e75a7134e91497e\", \"server\": \"http://localhost:40679/tilesets/api/v1/\", \"type\": \"linear-heatmap\", \"uid\": \"b5143b48-b0cd-4133-a0bb-0fd8c0a283b2\"}, {\"tilesetUid\": \"2fe00402c47abf1d38ac3b726730ed6a\", \"server\": \"http://localhost:40679/tilesets/api/v1/\", \"type\": \"linear-2d-rectangle-domains\", \"uid\": \"46602e8b-9771-4728-bdb2-7da5b25dbe7c\"}]}, {\"type\": \"combined\", \"uid\": \"a1eda73b-15e3-47ef-b6ff-b5d2efeb4732\", \"height\": 70, \"contents\": [{\"tilesetUid\": \"249786704855055fb4f35174ca507bf2\", \"server\": \"http://localhost:40679/tilesets/api/v1/\", \"type\": \"linear-heatmap\", \"uid\": \"bafd08dd-0f9e-47f3-bd86-57f0724a7e60\"}, {\"tilesetUid\": \"76db855a2374c5753a75d5a179166c30\", \"server\": \"http://localhost:40679/tilesets/api/v1/\", \"type\": \"linear-2d-rectangle-domains\", \"uid\": \"a1c77036-8a88-464a-9ffa-6101a4cbca8d\"}]}]}, \"uid\": \"4d29816f-2d77-4bbb-ade2-526ccd80bbbe\", \"initialXDomain\": [44000000.0, 67999000.0], \"initialYDomain\": [44000000.0, 67999000.0], \"zoomLimits\": [1.0, null]}]},\n",
       "    );\n",
       "    </script>\n",
       "</html>"
      ],
      "text/plain": [
       "View(layout=Layout(x=0, y=0, w=12, h=6, moved=None, static=None), tracks=Tracks[TrackT](left=None, right=None, top=[CombinedTrack(type='combined', uid='5ee59d72-e309-4dbc-8d39-7b94dcdd95f6', width=None, height=150, options=None, contents=[EnumTrack(tilesetUid='P0PLbQMwTYGy-5uPIQid7A', server='https://higlass.io/api/v1/', type='horizontal-gene-annotations', uid='cb9b5bd8-71a5-411f-8781-d2d64ee22a9b', width=None, height=None, options={'name': 'hg38 Gene annotation'}, data=None, chromInfoPath=None, fromViewUid=None, x=None, y=None), EnumTrack(tilesetUid='691b56279e5f36cab017e040e7dd4bf2', server='http://localhost:40679/tilesets/api/v1/', type='chromosome-labels', uid='83d21695-cb7f-4ea2-9a6e-d5c6bf21a5b1', width=None, height=None, options=None, data=None, chromInfoPath=None, fromViewUid=None, x=None, y=None)], position=None), CombinedTrack(type='combined', uid='be1b011f-bf25-46f8-8913-b71960b2e6cc', width=None, height=70, options=None, contents=[EnumTrack(tilesetUid='691b56279e5f36cab017e040e7dd4bf2', server='http://localhost:40679/tilesets/api/v1/', type='linear-heatmap', uid='04f810bc-e8b2-42ae-9fee-16fa62f49c53', width=None, height=None, options=None, data=None, chromInfoPath=None, fromViewUid=None, x=None, y=None), EnumTrack(tilesetUid='37b59a41512dd7b29a8e23ee9faa94fe', server='http://localhost:40679/tilesets/api/v1/', type='linear-2d-rectangle-domains', uid='3d246b50-ba22-4a90-ab6b-d761f9de2a80', width=None, height=None, options=None, data=None, chromInfoPath=None, fromViewUid=None, x=None, y=None)], position=None), CombinedTrack(type='combined', uid='bff4ac53-88cd-4abb-87b3-d1b4eaff7e6a', width=None, height=70, options=None, contents=[EnumTrack(tilesetUid='ad01de40dfecfd01d435287c167bd33b', server='http://localhost:40679/tilesets/api/v1/', type='linear-heatmap', uid='a187c19f-4e49-4ccc-bc66-33ab0955789d', width=None, height=None, options=None, data=None, chromInfoPath=None, fromViewUid=None, x=None, y=None), EnumTrack(tilesetUid='d99d8524e24840c79a514cbddd5b477b', server='http://localhost:40679/tilesets/api/v1/', type='linear-2d-rectangle-domains', uid='f8a97d07-0237-4693-b9bc-1c0f36a7f438', width=None, height=None, options=None, data=None, chromInfoPath=None, fromViewUid=None, x=None, y=None)], position=None), CombinedTrack(type='combined', uid='e7691230-e0aa-44dc-a398-2d3006570424', width=None, height=70, options=None, contents=[EnumTrack(tilesetUid='335f43c2893812a8f8d92ac88375b18f', server='http://localhost:40679/tilesets/api/v1/', type='linear-heatmap', uid='867ca10b-7cd3-403c-aabe-1e80d18a7eda', width=None, height=None, options=None, data=None, chromInfoPath=None, fromViewUid=None, x=None, y=None), EnumTrack(tilesetUid='7837de292fddf348e6808d9f8a7be466', server='http://localhost:40679/tilesets/api/v1/', type='linear-2d-rectangle-domains', uid='f82c2b55-16b8-4675-9861-ec35ce4e1ba7', width=None, height=None, options=None, data=None, chromInfoPath=None, fromViewUid=None, x=None, y=None)], position=None), CombinedTrack(type='combined', uid='24ac4437-4eb1-4e7b-90ee-163e920b8d20', width=None, height=70, options=None, contents=[EnumTrack(tilesetUid='4a8de3b966951cb85def4c4d9c1d2d7a', server='http://localhost:40679/tilesets/api/v1/', type='linear-heatmap', uid='32546302-e733-4195-9671-31d69b671ba5', width=None, height=None, options=None, data=None, chromInfoPath=None, fromViewUid=None, x=None, y=None), EnumTrack(tilesetUid='3bf166c7be1edd41440cf7a8b608b4c9', server='http://localhost:40679/tilesets/api/v1/', type='linear-2d-rectangle-domains', uid='f03b7aa6-535e-4c5b-bb55-b97a9c86e351', width=None, height=None, options=None, data=None, chromInfoPath=None, fromViewUid=None, x=None, y=None)], position=None), CombinedTrack(type='combined', uid='4d83348b-e7a1-4655-ae56-2a95b91b52ed', width=None, height=70, options=None, contents=[EnumTrack(tilesetUid='1b9842a1ee691f500e75a7134e91497e', server='http://localhost:40679/tilesets/api/v1/', type='linear-heatmap', uid='b5143b48-b0cd-4133-a0bb-0fd8c0a283b2', width=None, height=None, options=None, data=None, chromInfoPath=None, fromViewUid=None, x=None, y=None), EnumTrack(tilesetUid='2fe00402c47abf1d38ac3b726730ed6a', server='http://localhost:40679/tilesets/api/v1/', type='linear-2d-rectangle-domains', uid='46602e8b-9771-4728-bdb2-7da5b25dbe7c', width=None, height=None, options=None, data=None, chromInfoPath=None, fromViewUid=None, x=None, y=None)], position=None), CombinedTrack(type='combined', uid='a1eda73b-15e3-47ef-b6ff-b5d2efeb4732', width=None, height=70, options=None, contents=[EnumTrack(tilesetUid='249786704855055fb4f35174ca507bf2', server='http://localhost:40679/tilesets/api/v1/', type='linear-heatmap', uid='bafd08dd-0f9e-47f3-bd86-57f0724a7e60', width=None, height=None, options=None, data=None, chromInfoPath=None, fromViewUid=None, x=None, y=None), EnumTrack(tilesetUid='76db855a2374c5753a75d5a179166c30', server='http://localhost:40679/tilesets/api/v1/', type='linear-2d-rectangle-domains', uid='a1c77036-8a88-464a-9ffa-6101a4cbca8d', width=None, height=None, options=None, data=None, chromInfoPath=None, fromViewUid=None, x=None, y=None)], position=None)], bottom=None, center=None, whole=None, gallery=None), uid='4d29816f-2d77-4bbb-ade2-526ccd80bbbe', autocompleteSource=None, chromInfoPath=None, genomePositionSearchBox=None, genomePositionSearchBoxVisible=None, initialXDomain=(44000000.0, 67999000.0), initialYDomain=(44000000.0, 67999000.0), overlays=None, selectionView=None, zoomFixed=None, zoomLimits=(1.0, None))"
      ]
     },
     "execution_count": 4,
     "metadata": {},
     "output_type": "execute_result"
    }
   ],
   "source": [
    "gene_annotation_tile = hg.remote(\n",
    "    uid=\"P0PLbQMwTYGy-5uPIQid7A\",\n",
    "    server=\"https://higlass.io/api/v1/\",\n",
    "    name=\"hg38 Gene annotation\",\n",
    ")\n",
    "\n",
    "cooler_tiles = {}\n",
    "tad_tiles = {}\n",
    "cooler_tracks = {}\n",
    "\n",
    "for bedpe, clr in zip(tads2d_50k, coolers):\n",
    "    cooler_tiles[clr] = hg.cooler(clr)\n",
    "    tad_tiles[clr] = hg.bed2ddb(bedpe)\n",
    "    cooler_tracks[clr] = hg.combine(\n",
    "        cooler_tiles[clr].track(\"linear-heatmap\"),\n",
    "        tad_tiles[clr].track(\"linear-2d-rectangle-domains\"),\n",
    "        height=70,\n",
    "    )\n",
    "\n",
    "\n",
    "chrom_sizes_track = list(cooler_tiles.values())[0].track(\"chromosome-labels\")\n",
    "ga_track = gene_annotation_tile.track(\"horizontal-gene-annotations\")\n",
    "top_track = hg.combine(ga_track, chrom_sizes_track, height=150)\n",
    "\n",
    "uri = coolers[0]\n",
    "if cooler.fileops.is_multires_file(uri):\n",
    "    grps = cooler.fileops.list_coolers(uri)\n",
    "    uri = f\"{uri}::{grps[0]}\"\n",
    "domain = compute_domain(coords, cooler.Cooler(uri))\n",
    "\n",
    "tracks = [(top_track, \"top\")]\n",
    "\n",
    "for key, track in cooler_tracks.items():\n",
    "    tracks.append((track, \"top\"))\n",
    "\n",
    "view = hg.view(*tracks).domain(x=domain, y=domain)\n",
    "view"
   ]
  },
  {
   "cell_type": "markdown",
   "id": "95e7ec2b-2031-42cb-ac2e-9edf53c39f3d",
   "metadata": {},
   "source": [
    "## 50 kbp TADs as BED tracks"
   ]
  },
  {
   "cell_type": "code",
   "execution_count": 5,
   "id": "1907d642-5a21-45bc-9900-2e80e415c53a",
   "metadata": {},
   "outputs": [
    {
     "data": {
      "text/html": [
       "\n",
       "<!DOCTYPE html>\n",
       "<html>\n",
       "  <head>\n",
       "    <link rel=\"stylesheet\" href=\"https://esm.sh/higlass@1.12/dist/hglib.css\">\n",
       "    <script src=\"https://unpkg.com/requirejs-toggle\"></script>\n",
       "    \n",
       "    <script src=\"https://unpkg.com/requirejs-toggle\"></script>\n",
       "  </head>\n",
       "  <body>\n",
       "    <div id=\"jupyter-hg-7be6ad7290bc4f5ea94758fffaea7407\"></div>\n",
       "  </body>\n",
       "  <script type=\"module\">\n",
       "    import hglib from \"https://esm.sh/higlass@1.12?deps=react@17,react-dom@17,pixi.js@6\";\n",
       "    hglib.viewer(\n",
       "      document.getElementById('jupyter-hg-7be6ad7290bc4f5ea94758fffaea7407'),\n",
       "      {\"editable\": true, \"viewEditable\": true, \"tracksEditable\": true, \"views\": [{\"layout\": {\"x\": 0, \"y\": 0, \"w\": 12, \"h\": 6}, \"tracks\": {\"top\": [{\"tilesetUid\": \"691b56279e5f36cab017e040e7dd4bf2\", \"server\": \"http://localhost:40679/tilesets/api/v1/\", \"type\": \"chromosome-labels\", \"uid\": \"55603184-61d1-4509-9f59-da7776e40a73\"}, {\"tilesetUid\": \"691b56279e5f36cab017e040e7dd4bf2\", \"server\": \"http://localhost:40679/tilesets/api/v1/\", \"type\": \"linear-heatmap\", \"uid\": \"ee815028-7857-4687-ab48-db068498ce3f\", \"height\": 75}, {\"tilesetUid\": \"37b59a41512dd7b29a8e23ee9faa94fe\", \"server\": \"http://localhost:40679/tilesets/api/v1/\", \"type\": \"bedlike\", \"uid\": \"086f2066-0dcc-49d0-9d76-1a6e7efed909\", \"height\": 20, \"options\": {\"annotationStyle\": \"segment\"}}, {\"tilesetUid\": \"ad01de40dfecfd01d435287c167bd33b\", \"server\": \"http://localhost:40679/tilesets/api/v1/\", \"type\": \"linear-heatmap\", \"uid\": \"8b59a918-5d63-4885-aa02-6cadc9954d6a\", \"height\": 75}, {\"tilesetUid\": \"d99d8524e24840c79a514cbddd5b477b\", \"server\": \"http://localhost:40679/tilesets/api/v1/\", \"type\": \"bedlike\", \"uid\": \"907d6f11-672e-4a3f-81b8-a8d29ad0714c\", \"height\": 20, \"options\": {\"annotationStyle\": \"segment\"}}, {\"tilesetUid\": \"335f43c2893812a8f8d92ac88375b18f\", \"server\": \"http://localhost:40679/tilesets/api/v1/\", \"type\": \"linear-heatmap\", \"uid\": \"146e3dfc-914d-4c8e-ad43-bc1caa2b7cb8\", \"height\": 75}, {\"tilesetUid\": \"7837de292fddf348e6808d9f8a7be466\", \"server\": \"http://localhost:40679/tilesets/api/v1/\", \"type\": \"bedlike\", \"uid\": \"73dad973-9d6b-473f-a12c-e76936cb389e\", \"height\": 20, \"options\": {\"annotationStyle\": \"segment\"}}, {\"tilesetUid\": \"4a8de3b966951cb85def4c4d9c1d2d7a\", \"server\": \"http://localhost:40679/tilesets/api/v1/\", \"type\": \"linear-heatmap\", \"uid\": \"2e5774f6-6d4c-4387-bf28-181951a0d122\", \"height\": 75}, {\"tilesetUid\": \"3bf166c7be1edd41440cf7a8b608b4c9\", \"server\": \"http://localhost:40679/tilesets/api/v1/\", \"type\": \"bedlike\", \"uid\": \"45df7709-7e9a-4103-9e13-a1fa9378e6f2\", \"height\": 20, \"options\": {\"annotationStyle\": \"segment\"}}, {\"tilesetUid\": \"1b9842a1ee691f500e75a7134e91497e\", \"server\": \"http://localhost:40679/tilesets/api/v1/\", \"type\": \"linear-heatmap\", \"uid\": \"de239333-b678-4723-817b-645b3f9442eb\", \"height\": 75}, {\"tilesetUid\": \"2fe00402c47abf1d38ac3b726730ed6a\", \"server\": \"http://localhost:40679/tilesets/api/v1/\", \"type\": \"bedlike\", \"uid\": \"91775925-672c-41b8-961f-5952c61882b8\", \"height\": 20, \"options\": {\"annotationStyle\": \"segment\"}}, {\"tilesetUid\": \"249786704855055fb4f35174ca507bf2\", \"server\": \"http://localhost:40679/tilesets/api/v1/\", \"type\": \"linear-heatmap\", \"uid\": \"69f17873-259f-4aff-9b0e-fe6ab5aa5143\", \"height\": 75}, {\"tilesetUid\": \"76db855a2374c5753a75d5a179166c30\", \"server\": \"http://localhost:40679/tilesets/api/v1/\", \"type\": \"bedlike\", \"uid\": \"4f04dfd9-efaf-43f7-a83e-0247859fbe9c\", \"height\": 20, \"options\": {\"annotationStyle\": \"segment\"}}]}, \"uid\": \"61d0cfe7-900c-4580-aaad-a1a52aa7104a\", \"initialXDomain\": [44000000.0, 67999000.0], \"initialYDomain\": [44000000.0, 67999000.0], \"zoomLimits\": [1.0, null]}]},\n",
       "    );\n",
       "    </script>\n",
       "</html>"
      ],
      "text/plain": [
       "View(layout=Layout(x=0, y=0, w=12, h=6, moved=None, static=None), tracks=Tracks[TrackT](left=None, right=None, top=[EnumTrack(tilesetUid='691b56279e5f36cab017e040e7dd4bf2', server='http://localhost:40679/tilesets/api/v1/', type='chromosome-labels', uid='55603184-61d1-4509-9f59-da7776e40a73', width=None, height=None, options=None, data=None, chromInfoPath=None, fromViewUid=None, x=None, y=None), EnumTrack(tilesetUid='691b56279e5f36cab017e040e7dd4bf2', server='http://localhost:40679/tilesets/api/v1/', type='linear-heatmap', uid='ee815028-7857-4687-ab48-db068498ce3f', width=None, height=75, options=None, data=None, chromInfoPath=None, fromViewUid=None, x=None, y=None), EnumTrack(tilesetUid='37b59a41512dd7b29a8e23ee9faa94fe', server='http://localhost:40679/tilesets/api/v1/', type='bedlike', uid='086f2066-0dcc-49d0-9d76-1a6e7efed909', width=None, height=20, options={'annotationStyle': 'segment'}, data=None, chromInfoPath=None, fromViewUid=None, x=None, y=None), EnumTrack(tilesetUid='ad01de40dfecfd01d435287c167bd33b', server='http://localhost:40679/tilesets/api/v1/', type='linear-heatmap', uid='8b59a918-5d63-4885-aa02-6cadc9954d6a', width=None, height=75, options=None, data=None, chromInfoPath=None, fromViewUid=None, x=None, y=None), EnumTrack(tilesetUid='d99d8524e24840c79a514cbddd5b477b', server='http://localhost:40679/tilesets/api/v1/', type='bedlike', uid='907d6f11-672e-4a3f-81b8-a8d29ad0714c', width=None, height=20, options={'annotationStyle': 'segment'}, data=None, chromInfoPath=None, fromViewUid=None, x=None, y=None), EnumTrack(tilesetUid='335f43c2893812a8f8d92ac88375b18f', server='http://localhost:40679/tilesets/api/v1/', type='linear-heatmap', uid='146e3dfc-914d-4c8e-ad43-bc1caa2b7cb8', width=None, height=75, options=None, data=None, chromInfoPath=None, fromViewUid=None, x=None, y=None), EnumTrack(tilesetUid='7837de292fddf348e6808d9f8a7be466', server='http://localhost:40679/tilesets/api/v1/', type='bedlike', uid='73dad973-9d6b-473f-a12c-e76936cb389e', width=None, height=20, options={'annotationStyle': 'segment'}, data=None, chromInfoPath=None, fromViewUid=None, x=None, y=None), EnumTrack(tilesetUid='4a8de3b966951cb85def4c4d9c1d2d7a', server='http://localhost:40679/tilesets/api/v1/', type='linear-heatmap', uid='2e5774f6-6d4c-4387-bf28-181951a0d122', width=None, height=75, options=None, data=None, chromInfoPath=None, fromViewUid=None, x=None, y=None), EnumTrack(tilesetUid='3bf166c7be1edd41440cf7a8b608b4c9', server='http://localhost:40679/tilesets/api/v1/', type='bedlike', uid='45df7709-7e9a-4103-9e13-a1fa9378e6f2', width=None, height=20, options={'annotationStyle': 'segment'}, data=None, chromInfoPath=None, fromViewUid=None, x=None, y=None), EnumTrack(tilesetUid='1b9842a1ee691f500e75a7134e91497e', server='http://localhost:40679/tilesets/api/v1/', type='linear-heatmap', uid='de239333-b678-4723-817b-645b3f9442eb', width=None, height=75, options=None, data=None, chromInfoPath=None, fromViewUid=None, x=None, y=None), EnumTrack(tilesetUid='2fe00402c47abf1d38ac3b726730ed6a', server='http://localhost:40679/tilesets/api/v1/', type='bedlike', uid='91775925-672c-41b8-961f-5952c61882b8', width=None, height=20, options={'annotationStyle': 'segment'}, data=None, chromInfoPath=None, fromViewUid=None, x=None, y=None), EnumTrack(tilesetUid='249786704855055fb4f35174ca507bf2', server='http://localhost:40679/tilesets/api/v1/', type='linear-heatmap', uid='69f17873-259f-4aff-9b0e-fe6ab5aa5143', width=None, height=75, options=None, data=None, chromInfoPath=None, fromViewUid=None, x=None, y=None), EnumTrack(tilesetUid='76db855a2374c5753a75d5a179166c30', server='http://localhost:40679/tilesets/api/v1/', type='bedlike', uid='4f04dfd9-efaf-43f7-a83e-0247859fbe9c', width=None, height=20, options={'annotationStyle': 'segment'}, data=None, chromInfoPath=None, fromViewUid=None, x=None, y=None)], bottom=None, center=None, whole=None, gallery=None), uid='61d0cfe7-900c-4580-aaad-a1a52aa7104a', autocompleteSource=None, chromInfoPath=None, genomePositionSearchBox=None, genomePositionSearchBoxVisible=None, initialXDomain=(44000000.0, 67999000.0), initialYDomain=(44000000.0, 67999000.0), overlays=None, selectionView=None, zoomFixed=None, zoomLimits=(1.0, None))"
      ]
     },
     "execution_count": 5,
     "metadata": {},
     "output_type": "execute_result"
    }
   ],
   "source": [
    "gene_annotation_tile = hg.remote(\n",
    "    uid=\"P0PLbQMwTYGy-5uPIQid7A\",\n",
    "    server=\"https://higlass.io/api/v1/\",\n",
    "    name=\"hg38 Gene annotation\",\n",
    ")\n",
    "\n",
    "cooler_tiles = {}\n",
    "tad_tiles = {}\n",
    "cooler_tracks = {}\n",
    "tad_tracks = {}\n",
    "\n",
    "for bed50k, clr in zip(tads2d_50k, coolers):\n",
    "    cooler_tiles[clr] = hg.cooler(clr)\n",
    "\n",
    "    cooler_tracks[clr] = cooler_tiles[clr].track(\"linear-heatmap\", height=75)\n",
    "    tad_tracks[clr] = [hg.bed2ddb(bed).track(\"bedlike\", height=20).opts(annotationStyle=\"segment\") for bed in (bed50k,)]\n",
    "\n",
    "chrom_sizes_track = list(cooler_tiles.values())[0].track(\"chromosome-labels\")\n",
    "\n",
    "uri = coolers[0]\n",
    "if cooler.fileops.is_multires_file(uri):\n",
    "    grps = cooler.fileops.list_coolers(uri)\n",
    "    uri = f\"{uri}::{grps[0]}\"\n",
    "domain = compute_domain(coords, cooler.Cooler(uri))\n",
    "\n",
    "views = {}\n",
    "\n",
    "tracks = [(chrom_sizes_track, \"top\")]\n",
    "\n",
    "for tad_tracks, clr_track in zip(tad_tracks.values(), cooler_tracks.values()):\n",
    "    tracks.append((clr_track, \"top\"))\n",
    "    for trk in tad_tracks:\n",
    "        tracks.append((trk, \"top\"))\n",
    "\n",
    "view = hg.view(*tracks).domain(x=domain, y=domain)\n",
    "view"
   ]
  },
  {
   "cell_type": "code",
   "execution_count": 6,
   "id": "8a735f21-7b6b-483b-bd44-2de0f0da66c1",
   "metadata": {},
   "outputs": [
    {
     "data": {
      "text/html": [
       "\n",
       "<!DOCTYPE html>\n",
       "<html>\n",
       "  <head>\n",
       "    <link rel=\"stylesheet\" href=\"https://esm.sh/higlass@1.12/dist/hglib.css\">\n",
       "    <script src=\"https://unpkg.com/requirejs-toggle\"></script>\n",
       "    \n",
       "    <script src=\"https://unpkg.com/requirejs-toggle\"></script>\n",
       "  </head>\n",
       "  <body>\n",
       "    <div id=\"jupyter-hg-fed5c5e981354e14ad5da918034d3e10\"></div>\n",
       "  </body>\n",
       "  <script type=\"module\">\n",
       "    import hglib from \"https://esm.sh/higlass@1.12?deps=react@17,react-dom@17,pixi.js@6\";\n",
       "    hglib.viewer(\n",
       "      document.getElementById('jupyter-hg-fed5c5e981354e14ad5da918034d3e10'),\n",
       "      {\"editable\": true, \"viewEditable\": true, \"tracksEditable\": true, \"views\": [{\"layout\": {\"x\": 0, \"y\": 0, \"w\": 12, \"h\": 6}, \"tracks\": {\"top\": [{\"tilesetUid\": \"691b56279e5f36cab017e040e7dd4bf2\", \"server\": \"http://localhost:40679/tilesets/api/v1/\", \"type\": \"chromosome-labels\", \"uid\": \"9bb70e77-eca1-410d-8c63-fe30da170f8c\"}, {\"tilesetUid\": \"691b56279e5f36cab017e040e7dd4bf2\", \"server\": \"http://localhost:40679/tilesets/api/v1/\", \"type\": \"linear-heatmap\", \"uid\": \"cd97752c-6509-4b21-ae64-937028e415ab\", \"height\": 75}, {\"tilesetUid\": \"bc99e416c2a6401ad54a56e11b30ca0b\", \"server\": \"http://localhost:40679/tilesets/api/v1/\", \"type\": \"line\", \"uid\": \"b0e81640-8633-40f5-9887-8c45e102c77d\", \"height\": 50}, {\"tilesetUid\": \"ad01de40dfecfd01d435287c167bd33b\", \"server\": \"http://localhost:40679/tilesets/api/v1/\", \"type\": \"linear-heatmap\", \"uid\": \"783cce59-bce4-4a3b-a586-2900edcab4f9\", \"height\": 75}, {\"tilesetUid\": \"a04a71d2de8b69fc03fd0d3131fdd4c6\", \"server\": \"http://localhost:40679/tilesets/api/v1/\", \"type\": \"line\", \"uid\": \"c6ea3d87-614b-4e8b-a48f-6d52288c54d7\", \"height\": 50}, {\"tilesetUid\": \"335f43c2893812a8f8d92ac88375b18f\", \"server\": \"http://localhost:40679/tilesets/api/v1/\", \"type\": \"linear-heatmap\", \"uid\": \"11852a2f-f55c-436a-9c78-9808367f2b65\", \"height\": 75}, {\"tilesetUid\": \"d4215dc07c85a20843e9955e58b83ef8\", \"server\": \"http://localhost:40679/tilesets/api/v1/\", \"type\": \"line\", \"uid\": \"98af6ae8-88ac-4805-95b4-7fdf314792a2\", \"height\": 50}, {\"tilesetUid\": \"4a8de3b966951cb85def4c4d9c1d2d7a\", \"server\": \"http://localhost:40679/tilesets/api/v1/\", \"type\": \"linear-heatmap\", \"uid\": \"6c3d3034-cccb-49e3-a270-dd27a2d164a3\", \"height\": 75}, {\"tilesetUid\": \"d1baa0b49ffe0b92d338f28b95c27abb\", \"server\": \"http://localhost:40679/tilesets/api/v1/\", \"type\": \"line\", \"uid\": \"36a65e1d-0d02-45f2-9a08-585ee166aac8\", \"height\": 50}, {\"tilesetUid\": \"1b9842a1ee691f500e75a7134e91497e\", \"server\": \"http://localhost:40679/tilesets/api/v1/\", \"type\": \"linear-heatmap\", \"uid\": \"76c0210f-9b4d-4482-951c-d1fd802ad091\", \"height\": 75}, {\"tilesetUid\": \"fe74205cdd6ace4eb3b74e0de542e9ca\", \"server\": \"http://localhost:40679/tilesets/api/v1/\", \"type\": \"line\", \"uid\": \"75c61b99-09a2-4d4e-8acc-31344bb5a0aa\", \"height\": 50}, {\"tilesetUid\": \"249786704855055fb4f35174ca507bf2\", \"server\": \"http://localhost:40679/tilesets/api/v1/\", \"type\": \"linear-heatmap\", \"uid\": \"d1d39972-d336-4dd4-b2c4-e91f4278813a\", \"height\": 75}, {\"tilesetUid\": \"f3f55868a802db9357824185a4f8826a\", \"server\": \"http://localhost:40679/tilesets/api/v1/\", \"type\": \"line\", \"uid\": \"3ee935ad-e135-4e57-bec0-8cc6c2ec028b\", \"height\": 50}]}, \"uid\": \"33161c91-abd2-4967-b08a-adaf6639175f\", \"initialXDomain\": [44000000.0, 67999000.0], \"initialYDomain\": [44000000.0, 67999000.0], \"zoomLimits\": [1.0, null]}]},\n",
       "    );\n",
       "    </script>\n",
       "</html>"
      ],
      "text/plain": [
       "View(layout=Layout(x=0, y=0, w=12, h=6, moved=None, static=None), tracks=Tracks[TrackT](left=None, right=None, top=[EnumTrack(tilesetUid='691b56279e5f36cab017e040e7dd4bf2', server='http://localhost:40679/tilesets/api/v1/', type='chromosome-labels', uid='9bb70e77-eca1-410d-8c63-fe30da170f8c', width=None, height=None, options=None, data=None, chromInfoPath=None, fromViewUid=None, x=None, y=None), EnumTrack(tilesetUid='691b56279e5f36cab017e040e7dd4bf2', server='http://localhost:40679/tilesets/api/v1/', type='linear-heatmap', uid='cd97752c-6509-4b21-ae64-937028e415ab', width=None, height=75, options=None, data=None, chromInfoPath=None, fromViewUid=None, x=None, y=None), EnumTrack(tilesetUid='bc99e416c2a6401ad54a56e11b30ca0b', server='http://localhost:40679/tilesets/api/v1/', type='line', uid='b0e81640-8633-40f5-9887-8c45e102c77d', width=None, height=50, options=None, data=None, chromInfoPath=None, fromViewUid=None, x=None, y=None), EnumTrack(tilesetUid='ad01de40dfecfd01d435287c167bd33b', server='http://localhost:40679/tilesets/api/v1/', type='linear-heatmap', uid='783cce59-bce4-4a3b-a586-2900edcab4f9', width=None, height=75, options=None, data=None, chromInfoPath=None, fromViewUid=None, x=None, y=None), EnumTrack(tilesetUid='a04a71d2de8b69fc03fd0d3131fdd4c6', server='http://localhost:40679/tilesets/api/v1/', type='line', uid='c6ea3d87-614b-4e8b-a48f-6d52288c54d7', width=None, height=50, options=None, data=None, chromInfoPath=None, fromViewUid=None, x=None, y=None), EnumTrack(tilesetUid='335f43c2893812a8f8d92ac88375b18f', server='http://localhost:40679/tilesets/api/v1/', type='linear-heatmap', uid='11852a2f-f55c-436a-9c78-9808367f2b65', width=None, height=75, options=None, data=None, chromInfoPath=None, fromViewUid=None, x=None, y=None), EnumTrack(tilesetUid='d4215dc07c85a20843e9955e58b83ef8', server='http://localhost:40679/tilesets/api/v1/', type='line', uid='98af6ae8-88ac-4805-95b4-7fdf314792a2', width=None, height=50, options=None, data=None, chromInfoPath=None, fromViewUid=None, x=None, y=None), EnumTrack(tilesetUid='4a8de3b966951cb85def4c4d9c1d2d7a', server='http://localhost:40679/tilesets/api/v1/', type='linear-heatmap', uid='6c3d3034-cccb-49e3-a270-dd27a2d164a3', width=None, height=75, options=None, data=None, chromInfoPath=None, fromViewUid=None, x=None, y=None), EnumTrack(tilesetUid='d1baa0b49ffe0b92d338f28b95c27abb', server='http://localhost:40679/tilesets/api/v1/', type='line', uid='36a65e1d-0d02-45f2-9a08-585ee166aac8', width=None, height=50, options=None, data=None, chromInfoPath=None, fromViewUid=None, x=None, y=None), EnumTrack(tilesetUid='1b9842a1ee691f500e75a7134e91497e', server='http://localhost:40679/tilesets/api/v1/', type='linear-heatmap', uid='76c0210f-9b4d-4482-951c-d1fd802ad091', width=None, height=75, options=None, data=None, chromInfoPath=None, fromViewUid=None, x=None, y=None), EnumTrack(tilesetUid='fe74205cdd6ace4eb3b74e0de542e9ca', server='http://localhost:40679/tilesets/api/v1/', type='line', uid='75c61b99-09a2-4d4e-8acc-31344bb5a0aa', width=None, height=50, options=None, data=None, chromInfoPath=None, fromViewUid=None, x=None, y=None), EnumTrack(tilesetUid='249786704855055fb4f35174ca507bf2', server='http://localhost:40679/tilesets/api/v1/', type='linear-heatmap', uid='d1d39972-d336-4dd4-b2c4-e91f4278813a', width=None, height=75, options=None, data=None, chromInfoPath=None, fromViewUid=None, x=None, y=None), EnumTrack(tilesetUid='f3f55868a802db9357824185a4f8826a', server='http://localhost:40679/tilesets/api/v1/', type='line', uid='3ee935ad-e135-4e57-bec0-8cc6c2ec028b', width=None, height=50, options=None, data=None, chromInfoPath=None, fromViewUid=None, x=None, y=None)], bottom=None, center=None, whole=None, gallery=None), uid='33161c91-abd2-4967-b08a-adaf6639175f', autocompleteSource=None, chromInfoPath=None, genomePositionSearchBox=None, genomePositionSearchBoxVisible=None, initialXDomain=(44000000.0, 67999000.0), initialYDomain=(44000000.0, 67999000.0), overlays=None, selectionView=None, zoomFixed=None, zoomLimits=(1.0, None))"
      ]
     },
     "execution_count": 6,
     "metadata": {},
     "output_type": "execute_result"
    }
   ],
   "source": [
    "gene_annotation_tile = hg.remote(\n",
    "    uid=\"P0PLbQMwTYGy-5uPIQid7A\",\n",
    "    server=\"https://higlass.io/api/v1/\",\n",
    "    name=\"hg38 Gene annotation\",\n",
    ")\n",
    "\n",
    "cooler_tiles = {}\n",
    "tad_tiles = {}\n",
    "cooler_tracks = {}\n",
    "tad_tracks = {}\n",
    "\n",
    "for bw50k, clr in zip(ins_50k, coolers):\n",
    "    cooler_tiles[clr] = hg.cooler(clr)\n",
    "\n",
    "    cooler_tracks[clr] = cooler_tiles[clr].track(\"linear-heatmap\", height=75)\n",
    "    tad_tracks[clr] = [hg.bigwig(bw).track(\"line\", height=50) for bw in (bw50k,)]\n",
    "\n",
    "chrom_sizes_track = list(cooler_tiles.values())[0].track(\"chromosome-labels\")\n",
    "\n",
    "uri = coolers[0]\n",
    "if cooler.fileops.is_multires_file(uri):\n",
    "    grps = cooler.fileops.list_coolers(uri)\n",
    "    uri = f\"{uri}::{grps[0]}\"\n",
    "domain = compute_domain(coords, cooler.Cooler(uri))\n",
    "\n",
    "views = {}\n",
    "\n",
    "tracks = [(chrom_sizes_track, \"top\")]\n",
    "\n",
    "for tad_tracks, clr_track in zip(tad_tracks.values(), cooler_tracks.values()):\n",
    "    tracks.append((clr_track, \"top\"))\n",
    "    for trk in tad_tracks:\n",
    "        tracks.append((trk, \"top\"))\n",
    "\n",
    "view = hg.view(*tracks).domain(x=domain, y=domain)\n",
    "view"
   ]
  },
  {
   "cell_type": "code",
   "execution_count": null,
   "id": "3b6b7d92-ebbc-4360-86eb-eb0d11c47807",
   "metadata": {},
   "outputs": [],
   "source": []
  }
 ],
 "metadata": {
  "kernelspec": {
   "display_name": "devel",
   "language": "python",
   "name": "devel"
  },
  "language_info": {
   "codemirror_mode": {
    "name": "ipython",
    "version": 3
   },
   "file_extension": ".py",
   "mimetype": "text/x-python",
   "name": "python",
   "nbconvert_exporter": "python",
   "pygments_lexer": "ipython3",
   "version": "3.10.8"
  }
 },
 "nbformat": 4,
 "nbformat_minor": 5
}
