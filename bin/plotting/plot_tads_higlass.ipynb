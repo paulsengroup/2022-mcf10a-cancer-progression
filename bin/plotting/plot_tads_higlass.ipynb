{
 "cells": [
  {
   "cell_type": "code",
   "execution_count": 1,
   "id": "c2ec2992-ea73-42e4-9bfe-6c07cd39c4b5",
   "metadata": {},
   "outputs": [],
   "source": [
    "import higlass as hg\n",
    "import cooler\n",
    "import glob"
   ]
  },
  {
   "cell_type": "code",
   "execution_count": 2,
   "id": "7a8019e6-942e-4029-a49a-17b67a0c727e",
   "metadata": {},
   "outputs": [],
   "source": [
    "coords = \"chr1:44,000,000-68,000,000\"\n",
    "coolers = list(sorted(glob.glob(\"../../data/output/nfcore_hic/mcools/hg38_00?_MCF10A*.mcool\")))\n",
    "\n",
    "tads2d_10k = list(\n",
    "    sorted(glob.glob(\"../../data/output/tad_analysis/clodius/hg38_00?_MCF10A*_domains_ICE_10000_2D.beddb\"))\n",
    ")\n",
    "tads2d_20k = list(\n",
    "    sorted(glob.glob(\"../../data/output/tad_analysis/clodius/hg38_00?_MCF10A*_domains_ICE_20000_2D.beddb\"))\n",
    ")\n",
    "tads2d_50k = list(\n",
    "    sorted(glob.glob(\"../../data/output/tad_analysis/clodius/hg38_00?_MCF10A*_domains_ICE_50000_2D.beddb\"))\n",
    ")\n",
    "tads2d_100k = list(\n",
    "    sorted(glob.glob(\"../../data/output/tad_analysis/clodius/hg38_00?_MCF10A*_domains_ICE_100000_2D.beddb\"))\n",
    ")"
   ]
  },
  {
   "cell_type": "code",
   "execution_count": 3,
   "id": "a711c33a-7f92-4a4a-bd78-9fb0adadb85a",
   "metadata": {},
   "outputs": [],
   "source": [
    "def compute_domain(coords, clr: cooler.Cooler, padding=0.0):\n",
    "    df = clr.matrix(as_pixels=True).fetch(coords)\n",
    "\n",
    "    pos1 = df[\"bin1_id\"].min() * clr.binsize\n",
    "    pos2 = df[\"bin1_id\"].max() * clr.binsize\n",
    "\n",
    "    if padding != 0.0:\n",
    "        extent = pos2 - pos1\n",
    "        new_extent = int(padding * extent)\n",
    "        pos1 -= (new_extent - extent) // 2\n",
    "        pos2 += (new_extent - extent) // 2\n",
    "\n",
    "    return max(0, pos1), pos2"
   ]
  },
  {
   "cell_type": "markdown",
   "id": "cebcd8ff-d385-473c-8181-25e5e30d7497",
   "metadata": {},
   "source": [
    "## TADs as 2D domains"
   ]
  },
  {
   "cell_type": "code",
   "execution_count": 4,
   "id": "8fc14eb3-4395-4a4f-9a11-f5c3f31f5cdc",
   "metadata": {},
   "outputs": [
    {
     "data": {
      "text/html": [
       "\n",
       "<!DOCTYPE html>\n",
       "<html>\n",
       "  <head>\n",
       "    <link rel=\"stylesheet\" href=\"https://esm.sh/higlass@1.12/dist/hglib.css\">\n",
       "    <script src=\"https://unpkg.com/requirejs-toggle\"></script>\n",
       "    \n",
       "    <script src=\"https://unpkg.com/requirejs-toggle\"></script>\n",
       "  </head>\n",
       "  <body>\n",
       "    <div id=\"jupyter-hg-918185afb35e4a44907ef2426c89aee4\"></div>\n",
       "  </body>\n",
       "  <script type=\"module\">\n",
       "    import hglib from \"https://esm.sh/higlass@1.12?deps=react@17,react-dom@17,pixi.js@6\";\n",
       "    hglib.viewer(\n",
       "      document.getElementById('jupyter-hg-918185afb35e4a44907ef2426c89aee4'),\n",
       "      {\"editable\": true, \"viewEditable\": true, \"tracksEditable\": true, \"views\": [{\"layout\": {\"x\": 0, \"y\": 0, \"w\": 12, \"h\": 6}, \"tracks\": {\"top\": [{\"type\": \"combined\", \"uid\": \"79765370-0410-4cba-9e21-a896b3932e0f\", \"height\": 150, \"contents\": [{\"tilesetUid\": \"P0PLbQMwTYGy-5uPIQid7A\", \"server\": \"https://higlass.io/api/v1/\", \"type\": \"horizontal-gene-annotations\", \"uid\": \"32e9209e-e051-4621-85cc-3697803ad8af\", \"options\": {\"name\": \"hg38 Gene annotation\"}}, {\"tilesetUid\": \"691b56279e5f36cab017e040e7dd4bf2\", \"server\": \"http://localhost:46017/tilesets/api/v1/\", \"type\": \"chromosome-labels\", \"uid\": \"50406c3b-ad69-47ca-bb99-80293c464fa1\"}]}, {\"type\": \"combined\", \"uid\": \"ee2a1699-df71-4b63-b46f-84a3ddd0700b\", \"height\": 70, \"contents\": [{\"tilesetUid\": \"691b56279e5f36cab017e040e7dd4bf2\", \"server\": \"http://localhost:46017/tilesets/api/v1/\", \"type\": \"linear-heatmap\", \"uid\": \"b8626320-07b0-4b5e-a21c-279edd5299be\"}, {\"tilesetUid\": \"37b59a41512dd7b29a8e23ee9faa94fe\", \"server\": \"http://localhost:46017/tilesets/api/v1/\", \"type\": \"linear-2d-rectangle-domains\", \"uid\": \"ea8d34d8-a842-4474-9093-5f349fda69f5\"}]}, {\"type\": \"combined\", \"uid\": \"26046171-7789-4b84-8188-7814727261b1\", \"height\": 70, \"contents\": [{\"tilesetUid\": \"ad01de40dfecfd01d435287c167bd33b\", \"server\": \"http://localhost:46017/tilesets/api/v1/\", \"type\": \"linear-heatmap\", \"uid\": \"a53f30aa-9c05-4257-a4fe-bbcbf70ff72e\"}, {\"tilesetUid\": \"d99d8524e24840c79a514cbddd5b477b\", \"server\": \"http://localhost:46017/tilesets/api/v1/\", \"type\": \"linear-2d-rectangle-domains\", \"uid\": \"0e4c15db-0299-4487-a9ea-461496000f4e\"}]}, {\"type\": \"combined\", \"uid\": \"a8294b86-b10f-49d7-924c-54c0a5f0216f\", \"height\": 70, \"contents\": [{\"tilesetUid\": \"335f43c2893812a8f8d92ac88375b18f\", \"server\": \"http://localhost:46017/tilesets/api/v1/\", \"type\": \"linear-heatmap\", \"uid\": \"841ac498-9472-4f94-b0cf-cb8b46403a14\"}, {\"tilesetUid\": \"7837de292fddf348e6808d9f8a7be466\", \"server\": \"http://localhost:46017/tilesets/api/v1/\", \"type\": \"linear-2d-rectangle-domains\", \"uid\": \"df5a462a-9250-4a1e-8dfc-9aa84ceeea75\"}]}, {\"type\": \"combined\", \"uid\": \"090a7705-3bb6-4578-9f2a-9973fd8e7a2c\", \"height\": 70, \"contents\": [{\"tilesetUid\": \"4a8de3b966951cb85def4c4d9c1d2d7a\", \"server\": \"http://localhost:46017/tilesets/api/v1/\", \"type\": \"linear-heatmap\", \"uid\": \"80d25188-2a16-4f43-ab5d-5d4780171729\"}, {\"tilesetUid\": \"3bf166c7be1edd41440cf7a8b608b4c9\", \"server\": \"http://localhost:46017/tilesets/api/v1/\", \"type\": \"linear-2d-rectangle-domains\", \"uid\": \"3c322dc4-3a84-404e-abdb-bcc4830a6b3f\"}]}, {\"type\": \"combined\", \"uid\": \"47f5debd-4708-490d-9726-11b4b46fbef0\", \"height\": 70, \"contents\": [{\"tilesetUid\": \"1b9842a1ee691f500e75a7134e91497e\", \"server\": \"http://localhost:46017/tilesets/api/v1/\", \"type\": \"linear-heatmap\", \"uid\": \"f97a1ad4-4fdd-4a8e-b347-2a591e89251b\"}, {\"tilesetUid\": \"2fe00402c47abf1d38ac3b726730ed6a\", \"server\": \"http://localhost:46017/tilesets/api/v1/\", \"type\": \"linear-2d-rectangle-domains\", \"uid\": \"f29dbdbe-f427-4c9a-9cc6-751a1c35b9e9\"}]}, {\"type\": \"combined\", \"uid\": \"c4def6e3-578c-42c2-9ae6-f941f571eab3\", \"height\": 70, \"contents\": [{\"tilesetUid\": \"249786704855055fb4f35174ca507bf2\", \"server\": \"http://localhost:46017/tilesets/api/v1/\", \"type\": \"linear-heatmap\", \"uid\": \"d2489247-0b3e-4c44-94d0-8931e82cb712\"}, {\"tilesetUid\": \"76db855a2374c5753a75d5a179166c30\", \"server\": \"http://localhost:46017/tilesets/api/v1/\", \"type\": \"linear-2d-rectangle-domains\", \"uid\": \"ac2bc582-347f-4ac1-b7ff-bb22f4efb1bf\"}]}]}, \"uid\": \"22e08d92-a0ef-4377-8593-2a42b6989a28\", \"initialXDomain\": [44000000.0, 67999000.0], \"initialYDomain\": [44000000.0, 67999000.0], \"zoomLimits\": [1.0, null]}]},\n",
       "    );\n",
       "    </script>\n",
       "</html>"
      ],
      "text/plain": [
       "View(layout=Layout(x=0, y=0, w=12, h=6, moved=None, static=None), tracks=Tracks[TrackT](left=None, right=None, top=[CombinedTrack(type='combined', uid='79765370-0410-4cba-9e21-a896b3932e0f', width=None, height=150, options=None, contents=[EnumTrack(tilesetUid='P0PLbQMwTYGy-5uPIQid7A', server='https://higlass.io/api/v1/', type='horizontal-gene-annotations', uid='32e9209e-e051-4621-85cc-3697803ad8af', width=None, height=None, options={'name': 'hg38 Gene annotation'}, data=None, chromInfoPath=None, fromViewUid=None, x=None, y=None), EnumTrack(tilesetUid='691b56279e5f36cab017e040e7dd4bf2', server='http://localhost:46017/tilesets/api/v1/', type='chromosome-labels', uid='50406c3b-ad69-47ca-bb99-80293c464fa1', width=None, height=None, options=None, data=None, chromInfoPath=None, fromViewUid=None, x=None, y=None)], position=None), CombinedTrack(type='combined', uid='ee2a1699-df71-4b63-b46f-84a3ddd0700b', width=None, height=70, options=None, contents=[EnumTrack(tilesetUid='691b56279e5f36cab017e040e7dd4bf2', server='http://localhost:46017/tilesets/api/v1/', type='linear-heatmap', uid='b8626320-07b0-4b5e-a21c-279edd5299be', width=None, height=None, options=None, data=None, chromInfoPath=None, fromViewUid=None, x=None, y=None), EnumTrack(tilesetUid='37b59a41512dd7b29a8e23ee9faa94fe', server='http://localhost:46017/tilesets/api/v1/', type='linear-2d-rectangle-domains', uid='ea8d34d8-a842-4474-9093-5f349fda69f5', width=None, height=None, options=None, data=None, chromInfoPath=None, fromViewUid=None, x=None, y=None)], position=None), CombinedTrack(type='combined', uid='26046171-7789-4b84-8188-7814727261b1', width=None, height=70, options=None, contents=[EnumTrack(tilesetUid='ad01de40dfecfd01d435287c167bd33b', server='http://localhost:46017/tilesets/api/v1/', type='linear-heatmap', uid='a53f30aa-9c05-4257-a4fe-bbcbf70ff72e', width=None, height=None, options=None, data=None, chromInfoPath=None, fromViewUid=None, x=None, y=None), EnumTrack(tilesetUid='d99d8524e24840c79a514cbddd5b477b', server='http://localhost:46017/tilesets/api/v1/', type='linear-2d-rectangle-domains', uid='0e4c15db-0299-4487-a9ea-461496000f4e', width=None, height=None, options=None, data=None, chromInfoPath=None, fromViewUid=None, x=None, y=None)], position=None), CombinedTrack(type='combined', uid='a8294b86-b10f-49d7-924c-54c0a5f0216f', width=None, height=70, options=None, contents=[EnumTrack(tilesetUid='335f43c2893812a8f8d92ac88375b18f', server='http://localhost:46017/tilesets/api/v1/', type='linear-heatmap', uid='841ac498-9472-4f94-b0cf-cb8b46403a14', width=None, height=None, options=None, data=None, chromInfoPath=None, fromViewUid=None, x=None, y=None), EnumTrack(tilesetUid='7837de292fddf348e6808d9f8a7be466', server='http://localhost:46017/tilesets/api/v1/', type='linear-2d-rectangle-domains', uid='df5a462a-9250-4a1e-8dfc-9aa84ceeea75', width=None, height=None, options=None, data=None, chromInfoPath=None, fromViewUid=None, x=None, y=None)], position=None), CombinedTrack(type='combined', uid='090a7705-3bb6-4578-9f2a-9973fd8e7a2c', width=None, height=70, options=None, contents=[EnumTrack(tilesetUid='4a8de3b966951cb85def4c4d9c1d2d7a', server='http://localhost:46017/tilesets/api/v1/', type='linear-heatmap', uid='80d25188-2a16-4f43-ab5d-5d4780171729', width=None, height=None, options=None, data=None, chromInfoPath=None, fromViewUid=None, x=None, y=None), EnumTrack(tilesetUid='3bf166c7be1edd41440cf7a8b608b4c9', server='http://localhost:46017/tilesets/api/v1/', type='linear-2d-rectangle-domains', uid='3c322dc4-3a84-404e-abdb-bcc4830a6b3f', width=None, height=None, options=None, data=None, chromInfoPath=None, fromViewUid=None, x=None, y=None)], position=None), CombinedTrack(type='combined', uid='47f5debd-4708-490d-9726-11b4b46fbef0', width=None, height=70, options=None, contents=[EnumTrack(tilesetUid='1b9842a1ee691f500e75a7134e91497e', server='http://localhost:46017/tilesets/api/v1/', type='linear-heatmap', uid='f97a1ad4-4fdd-4a8e-b347-2a591e89251b', width=None, height=None, options=None, data=None, chromInfoPath=None, fromViewUid=None, x=None, y=None), EnumTrack(tilesetUid='2fe00402c47abf1d38ac3b726730ed6a', server='http://localhost:46017/tilesets/api/v1/', type='linear-2d-rectangle-domains', uid='f29dbdbe-f427-4c9a-9cc6-751a1c35b9e9', width=None, height=None, options=None, data=None, chromInfoPath=None, fromViewUid=None, x=None, y=None)], position=None), CombinedTrack(type='combined', uid='c4def6e3-578c-42c2-9ae6-f941f571eab3', width=None, height=70, options=None, contents=[EnumTrack(tilesetUid='249786704855055fb4f35174ca507bf2', server='http://localhost:46017/tilesets/api/v1/', type='linear-heatmap', uid='d2489247-0b3e-4c44-94d0-8931e82cb712', width=None, height=None, options=None, data=None, chromInfoPath=None, fromViewUid=None, x=None, y=None), EnumTrack(tilesetUid='76db855a2374c5753a75d5a179166c30', server='http://localhost:46017/tilesets/api/v1/', type='linear-2d-rectangle-domains', uid='ac2bc582-347f-4ac1-b7ff-bb22f4efb1bf', width=None, height=None, options=None, data=None, chromInfoPath=None, fromViewUid=None, x=None, y=None)], position=None)], bottom=None, center=None, whole=None, gallery=None), uid='22e08d92-a0ef-4377-8593-2a42b6989a28', autocompleteSource=None, chromInfoPath=None, genomePositionSearchBox=None, genomePositionSearchBoxVisible=None, initialXDomain=(44000000.0, 67999000.0), initialYDomain=(44000000.0, 67999000.0), overlays=None, selectionView=None, zoomFixed=None, zoomLimits=(1.0, None))"
      ]
     },
     "execution_count": 4,
     "metadata": {},
     "output_type": "execute_result"
    }
   ],
   "source": [
    "gene_annotation_tile = hg.remote(\n",
    "    uid=\"P0PLbQMwTYGy-5uPIQid7A\",\n",
    "    server=\"https://higlass.io/api/v1/\",\n",
    "    name=\"hg38 Gene annotation\",\n",
    ")\n",
    "\n",
    "cooler_tiles = {}\n",
    "tad_tiles = {}\n",
    "cooler_tracks = {}\n",
    "\n",
    "for bedpe, clr in zip(tads2d_50k, coolers):\n",
    "    cooler_tiles[clr] = hg.cooler(clr)\n",
    "    tad_tiles[clr] = hg.bed2ddb(bedpe)\n",
    "    cooler_tracks[clr] = hg.combine(\n",
    "        cooler_tiles[clr].track(\"linear-heatmap\"), tad_tiles[clr].track(\"linear-2d-rectangle-domains\"), height=70\n",
    "    )\n",
    "\n",
    "\n",
    "chrom_sizes_track = list(cooler_tiles.values())[0].track(\"chromosome-labels\")\n",
    "ga_track = gene_annotation_tile.track(\"horizontal-gene-annotations\")\n",
    "top_track = hg.combine(ga_track, chrom_sizes_track, height=150)\n",
    "\n",
    "uri = coolers[0]\n",
    "if cooler.fileops.is_multires_file(uri):\n",
    "    grps = cooler.fileops.list_coolers(uri)\n",
    "    uri = f\"{uri}::{grps[0]}\"\n",
    "domain = compute_domain(coords, cooler.Cooler(uri))\n",
    "\n",
    "tracks = [(top_track, \"top\")]\n",
    "\n",
    "for key, track in cooler_tracks.items():\n",
    "    tracks.append((track, \"top\"))\n",
    "\n",
    "view = hg.view(*tracks).domain(x=domain, y=domain)\n",
    "view"
   ]
  },
  {
   "cell_type": "markdown",
   "id": "95e7ec2b-2031-42cb-ac2e-9edf53c39f3d",
   "metadata": {},
   "source": [
    "## 50 kbp TADs as BED tracks"
   ]
  },
  {
   "cell_type": "code",
   "execution_count": 5,
   "id": "1907d642-5a21-45bc-9900-2e80e415c53a",
   "metadata": {},
   "outputs": [
    {
     "data": {
      "text/html": [
       "\n",
       "<!DOCTYPE html>\n",
       "<html>\n",
       "  <head>\n",
       "    <link rel=\"stylesheet\" href=\"https://esm.sh/higlass@1.12/dist/hglib.css\">\n",
       "    <script src=\"https://unpkg.com/requirejs-toggle\"></script>\n",
       "    \n",
       "    <script src=\"https://unpkg.com/requirejs-toggle\"></script>\n",
       "  </head>\n",
       "  <body>\n",
       "    <div id=\"jupyter-hg-06e9a72cd0b141109e375653531dded1\"></div>\n",
       "  </body>\n",
       "  <script type=\"module\">\n",
       "    import hglib from \"https://esm.sh/higlass@1.12?deps=react@17,react-dom@17,pixi.js@6\";\n",
       "    hglib.viewer(\n",
       "      document.getElementById('jupyter-hg-06e9a72cd0b141109e375653531dded1'),\n",
       "      {\"editable\": true, \"viewEditable\": true, \"tracksEditable\": true, \"views\": [{\"layout\": {\"x\": 0, \"y\": 0, \"w\": 12, \"h\": 6}, \"tracks\": {\"top\": [{\"type\": \"combined\", \"uid\": \"9247976e-20cf-4e12-a5ce-3b6684f543f6\", \"height\": 150, \"contents\": [{\"tilesetUid\": \"P0PLbQMwTYGy-5uPIQid7A\", \"server\": \"https://higlass.io/api/v1/\", \"type\": \"horizontal-gene-annotations\", \"uid\": \"5b96a563-ea71-4a1c-95eb-3ac802e4c6af\", \"options\": {\"name\": \"hg38 Gene annotation\"}}, {\"tilesetUid\": \"691b56279e5f36cab017e040e7dd4bf2\", \"server\": \"http://localhost:46017/tilesets/api/v1/\", \"type\": \"chromosome-labels\", \"uid\": \"f543627d-ed5b-4ea3-a30f-716e78f98852\"}]}, {\"tilesetUid\": \"691b56279e5f36cab017e040e7dd4bf2\", \"server\": \"http://localhost:46017/tilesets/api/v1/\", \"type\": \"linear-heatmap\", \"uid\": \"04b63ce1-061b-45a5-9bbf-4eddf59102fb\", \"height\": 75}, {\"tilesetUid\": \"37b59a41512dd7b29a8e23ee9faa94fe\", \"server\": \"http://localhost:46017/tilesets/api/v1/\", \"type\": \"bedlike\", \"uid\": \"2ac165de-d37b-4726-aaaa-ee6f038858ae\", \"height\": 20, \"options\": {\"annotationStyle\": \"segment\"}}, {\"tilesetUid\": \"ad01de40dfecfd01d435287c167bd33b\", \"server\": \"http://localhost:46017/tilesets/api/v1/\", \"type\": \"linear-heatmap\", \"uid\": \"e58da063-70d6-4236-8c17-a3edd6070460\", \"height\": 75}, {\"tilesetUid\": \"d99d8524e24840c79a514cbddd5b477b\", \"server\": \"http://localhost:46017/tilesets/api/v1/\", \"type\": \"bedlike\", \"uid\": \"2812a5ad-5a27-46b3-82f0-17231c2491d2\", \"height\": 20, \"options\": {\"annotationStyle\": \"segment\"}}, {\"tilesetUid\": \"335f43c2893812a8f8d92ac88375b18f\", \"server\": \"http://localhost:46017/tilesets/api/v1/\", \"type\": \"linear-heatmap\", \"uid\": \"4a258ca9-e507-4d6d-ad53-7b63742ead6c\", \"height\": 75}, {\"tilesetUid\": \"7837de292fddf348e6808d9f8a7be466\", \"server\": \"http://localhost:46017/tilesets/api/v1/\", \"type\": \"bedlike\", \"uid\": \"033d18e1-d749-4ea4-a432-ae3a5fd47823\", \"height\": 20, \"options\": {\"annotationStyle\": \"segment\"}}, {\"tilesetUid\": \"4a8de3b966951cb85def4c4d9c1d2d7a\", \"server\": \"http://localhost:46017/tilesets/api/v1/\", \"type\": \"linear-heatmap\", \"uid\": \"3a1af7f6-2d7d-48a2-b263-c3214f831273\", \"height\": 75}, {\"tilesetUid\": \"3bf166c7be1edd41440cf7a8b608b4c9\", \"server\": \"http://localhost:46017/tilesets/api/v1/\", \"type\": \"bedlike\", \"uid\": \"297104ec-875a-42d0-8f91-d632c7f791a4\", \"height\": 20, \"options\": {\"annotationStyle\": \"segment\"}}, {\"tilesetUid\": \"1b9842a1ee691f500e75a7134e91497e\", \"server\": \"http://localhost:46017/tilesets/api/v1/\", \"type\": \"linear-heatmap\", \"uid\": \"03261e03-83b6-45b7-8a78-4169d83cc07b\", \"height\": 75}, {\"tilesetUid\": \"2fe00402c47abf1d38ac3b726730ed6a\", \"server\": \"http://localhost:46017/tilesets/api/v1/\", \"type\": \"bedlike\", \"uid\": \"db02c941-8763-4898-927c-9fa353972573\", \"height\": 20, \"options\": {\"annotationStyle\": \"segment\"}}, {\"tilesetUid\": \"249786704855055fb4f35174ca507bf2\", \"server\": \"http://localhost:46017/tilesets/api/v1/\", \"type\": \"linear-heatmap\", \"uid\": \"05ac6959-5231-4601-a7a9-fc4b5e5b448f\", \"height\": 75}, {\"tilesetUid\": \"76db855a2374c5753a75d5a179166c30\", \"server\": \"http://localhost:46017/tilesets/api/v1/\", \"type\": \"bedlike\", \"uid\": \"e398cc79-abc6-4df8-93fd-ac3cd4d96b1a\", \"height\": 20, \"options\": {\"annotationStyle\": \"segment\"}}]}, \"uid\": \"5f99dc8c-36a2-4bba-ba33-596224250256\", \"initialXDomain\": [44000000.0, 67999000.0], \"initialYDomain\": [44000000.0, 67999000.0], \"zoomLimits\": [1.0, null]}]},\n",
       "    );\n",
       "    </script>\n",
       "</html>"
      ],
      "text/plain": [
       "View(layout=Layout(x=0, y=0, w=12, h=6, moved=None, static=None), tracks=Tracks[TrackT](left=None, right=None, top=[CombinedTrack(type='combined', uid='9247976e-20cf-4e12-a5ce-3b6684f543f6', width=None, height=150, options=None, contents=[EnumTrack(tilesetUid='P0PLbQMwTYGy-5uPIQid7A', server='https://higlass.io/api/v1/', type='horizontal-gene-annotations', uid='5b96a563-ea71-4a1c-95eb-3ac802e4c6af', width=None, height=None, options={'name': 'hg38 Gene annotation'}, data=None, chromInfoPath=None, fromViewUid=None, x=None, y=None), EnumTrack(tilesetUid='691b56279e5f36cab017e040e7dd4bf2', server='http://localhost:46017/tilesets/api/v1/', type='chromosome-labels', uid='f543627d-ed5b-4ea3-a30f-716e78f98852', width=None, height=None, options=None, data=None, chromInfoPath=None, fromViewUid=None, x=None, y=None)], position=None), EnumTrack(tilesetUid='691b56279e5f36cab017e040e7dd4bf2', server='http://localhost:46017/tilesets/api/v1/', type='linear-heatmap', uid='04b63ce1-061b-45a5-9bbf-4eddf59102fb', width=None, height=75, options=None, data=None, chromInfoPath=None, fromViewUid=None, x=None, y=None), EnumTrack(tilesetUid='37b59a41512dd7b29a8e23ee9faa94fe', server='http://localhost:46017/tilesets/api/v1/', type='bedlike', uid='2ac165de-d37b-4726-aaaa-ee6f038858ae', width=None, height=20, options={'annotationStyle': 'segment'}, data=None, chromInfoPath=None, fromViewUid=None, x=None, y=None), EnumTrack(tilesetUid='ad01de40dfecfd01d435287c167bd33b', server='http://localhost:46017/tilesets/api/v1/', type='linear-heatmap', uid='e58da063-70d6-4236-8c17-a3edd6070460', width=None, height=75, options=None, data=None, chromInfoPath=None, fromViewUid=None, x=None, y=None), EnumTrack(tilesetUid='d99d8524e24840c79a514cbddd5b477b', server='http://localhost:46017/tilesets/api/v1/', type='bedlike', uid='2812a5ad-5a27-46b3-82f0-17231c2491d2', width=None, height=20, options={'annotationStyle': 'segment'}, data=None, chromInfoPath=None, fromViewUid=None, x=None, y=None), EnumTrack(tilesetUid='335f43c2893812a8f8d92ac88375b18f', server='http://localhost:46017/tilesets/api/v1/', type='linear-heatmap', uid='4a258ca9-e507-4d6d-ad53-7b63742ead6c', width=None, height=75, options=None, data=None, chromInfoPath=None, fromViewUid=None, x=None, y=None), EnumTrack(tilesetUid='7837de292fddf348e6808d9f8a7be466', server='http://localhost:46017/tilesets/api/v1/', type='bedlike', uid='033d18e1-d749-4ea4-a432-ae3a5fd47823', width=None, height=20, options={'annotationStyle': 'segment'}, data=None, chromInfoPath=None, fromViewUid=None, x=None, y=None), EnumTrack(tilesetUid='4a8de3b966951cb85def4c4d9c1d2d7a', server='http://localhost:46017/tilesets/api/v1/', type='linear-heatmap', uid='3a1af7f6-2d7d-48a2-b263-c3214f831273', width=None, height=75, options=None, data=None, chromInfoPath=None, fromViewUid=None, x=None, y=None), EnumTrack(tilesetUid='3bf166c7be1edd41440cf7a8b608b4c9', server='http://localhost:46017/tilesets/api/v1/', type='bedlike', uid='297104ec-875a-42d0-8f91-d632c7f791a4', width=None, height=20, options={'annotationStyle': 'segment'}, data=None, chromInfoPath=None, fromViewUid=None, x=None, y=None), EnumTrack(tilesetUid='1b9842a1ee691f500e75a7134e91497e', server='http://localhost:46017/tilesets/api/v1/', type='linear-heatmap', uid='03261e03-83b6-45b7-8a78-4169d83cc07b', width=None, height=75, options=None, data=None, chromInfoPath=None, fromViewUid=None, x=None, y=None), EnumTrack(tilesetUid='2fe00402c47abf1d38ac3b726730ed6a', server='http://localhost:46017/tilesets/api/v1/', type='bedlike', uid='db02c941-8763-4898-927c-9fa353972573', width=None, height=20, options={'annotationStyle': 'segment'}, data=None, chromInfoPath=None, fromViewUid=None, x=None, y=None), EnumTrack(tilesetUid='249786704855055fb4f35174ca507bf2', server='http://localhost:46017/tilesets/api/v1/', type='linear-heatmap', uid='05ac6959-5231-4601-a7a9-fc4b5e5b448f', width=None, height=75, options=None, data=None, chromInfoPath=None, fromViewUid=None, x=None, y=None), EnumTrack(tilesetUid='76db855a2374c5753a75d5a179166c30', server='http://localhost:46017/tilesets/api/v1/', type='bedlike', uid='e398cc79-abc6-4df8-93fd-ac3cd4d96b1a', width=None, height=20, options={'annotationStyle': 'segment'}, data=None, chromInfoPath=None, fromViewUid=None, x=None, y=None)], bottom=None, center=None, whole=None, gallery=None), uid='5f99dc8c-36a2-4bba-ba33-596224250256', autocompleteSource=None, chromInfoPath=None, genomePositionSearchBox=None, genomePositionSearchBoxVisible=None, initialXDomain=(44000000.0, 67999000.0), initialYDomain=(44000000.0, 67999000.0), overlays=None, selectionView=None, zoomFixed=None, zoomLimits=(1.0, None))"
      ]
     },
     "execution_count": 5,
     "metadata": {},
     "output_type": "execute_result"
    }
   ],
   "source": [
    "gene_annotation_tile = hg.remote(\n",
    "    uid=\"P0PLbQMwTYGy-5uPIQid7A\",\n",
    "    server=\"https://higlass.io/api/v1/\",\n",
    "    name=\"hg38 Gene annotation\",\n",
    ")\n",
    "\n",
    "cooler_tiles = {}\n",
    "tad_tiles = {}\n",
    "cooler_tracks = {}\n",
    "tad_tracks = {}\n",
    "\n",
    "for bed50k, clr in zip(tads2d_50k, coolers):\n",
    "    cooler_tiles[clr] = hg.cooler(clr)\n",
    "\n",
    "    cooler_tracks[clr] = cooler_tiles[clr].track(\"linear-heatmap\", height=75)\n",
    "    tad_tracks[clr] = [hg.bed2ddb(bed).track(\"bedlike\", height=20).opts(annotationStyle=\"segment\") for bed in (bed50k,)]\n",
    "\n",
    "chrom_sizes_track = list(cooler_tiles.values())[0].track(\"chromosome-labels\")\n",
    "ga_track = gene_annotation_tile.track(\"horizontal-gene-annotations\")\n",
    "top_track = hg.combine(ga_track, chrom_sizes_track, height=150)\n",
    "\n",
    "uri = coolers[0]\n",
    "if cooler.fileops.is_multires_file(uri):\n",
    "    grps = cooler.fileops.list_coolers(uri)\n",
    "    uri = f\"{uri}::{grps[0]}\"\n",
    "domain = compute_domain(coords, cooler.Cooler(uri))\n",
    "\n",
    "views = {}\n",
    "\n",
    "tracks = [(top_track, \"top\")]\n",
    "\n",
    "for tad_tracks, clr_track in zip(tad_tracks.values(), cooler_tracks.values()):\n",
    "    tracks.append((clr_track, \"top\"))\n",
    "    for trk in tad_tracks:\n",
    "        tracks.append((trk, \"top\"))\n",
    "\n",
    "view = hg.view(*tracks).domain(x=domain, y=domain)\n",
    "view"
   ]
  },
  {
   "cell_type": "code",
   "execution_count": null,
   "id": "8a735f21-7b6b-483b-bd44-2de0f0da66c1",
   "metadata": {},
   "outputs": [],
   "source": []
  }
 ],
 "metadata": {
  "kernelspec": {
   "display_name": "devel",
   "language": "python",
   "name": "devel"
  },
  "language_info": {
   "codemirror_mode": {
    "name": "ipython",
    "version": 3
   },
   "file_extension": ".py",
   "mimetype": "text/x-python",
   "name": "python",
   "nbconvert_exporter": "python",
   "pygments_lexer": "ipython3",
   "version": "3.10.8"
  }
 },
 "nbformat": 4,
 "nbformat_minor": 5
}
