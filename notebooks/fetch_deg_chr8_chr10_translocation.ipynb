{
 "cells": [
  {
   "cell_type": "code",
   "execution_count": 1,
   "id": "b2b563b5-be34-4d4a-a303-ba4615e48d91",
   "metadata": {},
   "outputs": [],
   "source": [
    "import bioframe as bf\n",
    "import pandas as pd\n",
    "import pathlib\n",
    "from typing import Iterable, List\n",
    "import numpy as np\n",
    "import itertools\n",
    "import re\n",
    "from natsort import natsort_keygen"
   ]
  },
  {
   "cell_type": "code",
   "execution_count": 2,
   "id": "3ca0931b-6f93-4d78-9688-8855234aca22",
   "metadata": {},
   "outputs": [],
   "source": [
    "def import_gtf(path_to_gtf: pathlib.Path) -> pd.DataFrame:\n",
    "    df = bf.read_table(path_to_gtf, schema=\"gtf\", comment=\"#\")\n",
    "    df = df[df[\"feature\"] == \"gene\"]\n",
    "\n",
    "    for key in [\"gene_id\", \"gene_name\", \"gene_type\"]:\n",
    "        df[key] = extract_attribute_gtf(df[\"attributes\"], key)\n",
    "\n",
    "    return df.drop(columns=\"attributes\").set_index(\"gene_id\").sort_index()\n",
    "\n",
    "\n",
    "def extract_gene_types(dfs: Iterable[pd.DataFrame], gene_type_key=\"gene_type\"):\n",
    "    return np.sort(\n",
    "        np.unique(\n",
    "            list(\n",
    "                itertools.chain.from_iterable(\n",
    "                    (df[gene_type_key].unique() for df in dfs)\n",
    "                )\n",
    "            )\n",
    "        )\n",
    "    )\n",
    "\n",
    "\n",
    "def extract_attribute_gtf(data: pd.Series, key: str) -> List[str]:\n",
    "    pattern = re.compile(rf\"{key} \\\"(.*?)\\\";\")\n",
    "\n",
    "    return data.str.extract(pattern)"
   ]
  },
  {
   "cell_type": "code",
   "execution_count": 3,
   "id": "ba0ba5b6-56c3-4cb4-838e-b1acd9fd908f",
   "metadata": {},
   "outputs": [],
   "source": [
    "coords = [\"chr8:126338000-128232000\", \"chr10:71200000-73260000\"]\n",
    "\n",
    "deg_t1 = pd.read_table(\n",
    "    \"../data/output/diff_expression_analysis/star_salmon_gene/lfc_0.1/MCF10A_WT_vs_MCF10A_T1.de.tsv.gz\"\n",
    ")\n",
    "deg_c1 = pd.read_table(\n",
    "    \"../data/output/diff_expression_analysis/star_salmon_gene/lfc_0.1/MCF10A_WT_vs_MCF10A_C1.de.tsv.gz\"\n",
    ")\n",
    "gtf = import_gtf(\"../data/input/hg38/hg38_gencode_v43.gtf\")"
   ]
  },
  {
   "cell_type": "code",
   "execution_count": 4,
   "id": "ae833384-7b97-42b1-8f4d-c74eb2aabac4",
   "metadata": {},
   "outputs": [],
   "source": [
    "deg_t1 = deg_t1.merge(gtf[[\"chrom\", \"start\", \"end\"]], left_on=\"id\", right_index=True)\n",
    "deg_c1 = deg_c1.merge(gtf[[\"chrom\", \"start\", \"end\"]], left_on=\"id\", right_index=True)\n",
    "\n",
    "deg_t1 = pd.concat([bf.select(deg_t1, c) for c in coords]).sort_values(\n",
    "    [\"chrom\", \"start\"], key=natsort_keygen()\n",
    ")\n",
    "deg_c1 = pd.concat([bf.select(deg_c1, c) for c in coords]).sort_values(\n",
    "    [\"chrom\", \"start\"], key=natsort_keygen()\n",
    ")\n",
    "\n",
    "deg_t1 = deg_t1[\n",
    "    [\n",
    "        \"chrom\",\n",
    "        \"start\",\n",
    "        \"end\",\n",
    "        \"id\",\n",
    "        \"gene_name\",\n",
    "        \"baseMean\",\n",
    "        \"log2FoldChange\",\n",
    "        \"lfcSE\",\n",
    "        \"svalue\",\n",
    "    ]\n",
    "]\n",
    "deg_c1 = deg_c1[\n",
    "    [\n",
    "        \"chrom\",\n",
    "        \"start\",\n",
    "        \"end\",\n",
    "        \"id\",\n",
    "        \"gene_name\",\n",
    "        \"baseMean\",\n",
    "        \"log2FoldChange\",\n",
    "        \"lfcSE\",\n",
    "        \"svalue\",\n",
    "    ]\n",
    "]"
   ]
  },
  {
   "cell_type": "code",
   "execution_count": 5,
   "id": "c6804f1e-1fb9-42d8-a3e9-54317ed6f4f4",
   "metadata": {},
   "outputs": [],
   "source": [
    "deg_t1.to_csv(\"/tmp/deg_t1.tsv\", sep=\"\\t\", index=False)"
   ]
  },
  {
   "cell_type": "code",
   "execution_count": 6,
   "id": "08720804-9452-428f-9b05-ee9a4d9cf08f",
   "metadata": {},
   "outputs": [],
   "source": [
    "deg_c1.to_csv(\"/tmp/deg_c1.tsv\", sep=\"\\t\", index=False)"
   ]
  },
  {
   "cell_type": "code",
   "execution_count": null,
   "id": "5eedc1ca-470f-47fe-9cbd-910e38e2415e",
   "metadata": {},
   "outputs": [],
   "source": []
  }
 ],
 "metadata": {
  "kernelspec": {
   "display_name": "devel",
   "language": "python",
   "name": "devel"
  },
  "language_info": {
   "codemirror_mode": {
    "name": "ipython",
    "version": 3
   },
   "file_extension": ".py",
   "mimetype": "text/x-python",
   "name": "python",
   "nbconvert_exporter": "python",
   "pygments_lexer": "ipython3",
   "version": "3.10.12"
  }
 },
 "nbformat": 4,
 "nbformat_minor": 5
}
