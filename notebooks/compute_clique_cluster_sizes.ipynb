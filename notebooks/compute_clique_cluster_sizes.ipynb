{
 "cells": [
  {
   "cell_type": "code",
   "execution_count": 1,
   "id": "5fefc00a-2929-4138-9759-a1494564b317",
   "metadata": {
    "ExecuteTime": {
     "end_time": "2024-07-22T12:30:26.195557Z",
     "start_time": "2024-07-22T12:30:25.594497Z"
    }
   },
   "outputs": [],
   "source": [
    "import hdbscan\n",
    "import pickle\n",
    "import pandas as pd\n",
    "from typing import Tuple\n",
    "import pathlib\n",
    "from functools import reduce"
   ]
  },
  {
   "cell_type": "code",
   "execution_count": 2,
   "id": "aea8b092-4e1b-4e97-8591-2fa50617e309",
   "metadata": {
    "ExecuteTime": {
     "end_time": "2024-07-22T12:30:27.459800Z",
     "start_time": "2024-07-22T12:30:27.457557Z"
    }
   },
   "outputs": [],
   "source": [
    "def import_clusters(\n",
    "    path_to_tsv: pathlib.Path, path_to_picke: pathlib.Path\n",
    ") -> Tuple[pd.DataFrame, hdbscan.HDBSCAN]:\n",
    "    df = pd.read_table(path_to_tsv)\n",
    "    with open(path_to_picke, \"rb\") as f:\n",
    "        return df, pickle.load(f)"
   ]
  },
  {
   "cell_type": "code",
   "execution_count": 3,
   "id": "121aee99-8098-4f4e-be85-907dad08f16e",
   "metadata": {
    "ExecuteTime": {
     "end_time": "2024-07-22T12:30:28.918194Z",
     "start_time": "2024-07-22T12:30:28.888781Z"
    }
   },
   "outputs": [],
   "source": [
    "df, clusters = import_clusters(\n",
    "    \"../data/output/comparative_analysis/annotated_domains/10000/clusters/clique.clusters.tsv.gz\",\n",
    "    \"../data/output/comparative_analysis/annotated_domains/10000/clusters/clique.clusterer.pickle.xz\",\n",
    ")"
   ]
  },
  {
   "cell_type": "code",
   "execution_count": 4,
   "id": "1dcfd6bf-3a2f-4519-a759-ba02c970cb0a",
   "metadata": {
    "ExecuteTime": {
     "end_time": "2024-07-22T12:30:29.654194Z",
     "start_time": "2024-07-22T12:30:29.647075Z"
    }
   },
   "outputs": [
    {
     "data": {
      "text/html": [
       "<div>\n",
       "<style scoped>\n",
       "    .dataframe tbody tr th:only-of-type {\n",
       "        vertical-align: middle;\n",
       "    }\n",
       "\n",
       "    .dataframe tbody tr th {\n",
       "        vertical-align: top;\n",
       "    }\n",
       "\n",
       "    .dataframe thead th {\n",
       "        text-align: right;\n",
       "    }\n",
       "</style>\n",
       "<table border=\"1\" class=\"dataframe\">\n",
       "  <thead>\n",
       "    <tr style=\"text-align: right;\">\n",
       "      <th></th>\n",
       "      <th>cluster</th>\n",
       "      <th>001_MCF10A_REP1</th>\n",
       "      <th>002_MCF10A_REP2</th>\n",
       "      <th>003_MCF10AT1_REP1</th>\n",
       "      <th>004_MCF10AT1_REP2</th>\n",
       "      <th>005_MCF10CA1a_REP1</th>\n",
       "      <th>006_MCF10CA1a_REP2</th>\n",
       "    </tr>\n",
       "  </thead>\n",
       "  <tbody>\n",
       "    <tr>\n",
       "      <th>0</th>\n",
       "      <td>-1</td>\n",
       "      <td>847</td>\n",
       "      <td>811</td>\n",
       "      <td>526</td>\n",
       "      <td>597</td>\n",
       "      <td>595</td>\n",
       "      <td>563</td>\n",
       "    </tr>\n",
       "    <tr>\n",
       "      <th>1</th>\n",
       "      <td>0</td>\n",
       "      <td>135</td>\n",
       "      <td>127</td>\n",
       "      <td>173</td>\n",
       "      <td>176</td>\n",
       "      <td>182</td>\n",
       "      <td>170</td>\n",
       "    </tr>\n",
       "    <tr>\n",
       "      <th>2</th>\n",
       "      <td>1</td>\n",
       "      <td>97</td>\n",
       "      <td>85</td>\n",
       "      <td>56</td>\n",
       "      <td>65</td>\n",
       "      <td>74</td>\n",
       "      <td>74</td>\n",
       "    </tr>\n",
       "    <tr>\n",
       "      <th>3</th>\n",
       "      <td>2</td>\n",
       "      <td>210</td>\n",
       "      <td>195</td>\n",
       "      <td>219</td>\n",
       "      <td>234</td>\n",
       "      <td>274</td>\n",
       "      <td>252</td>\n",
       "    </tr>\n",
       "    <tr>\n",
       "      <th>4</th>\n",
       "      <td>3</td>\n",
       "      <td>41</td>\n",
       "      <td>37</td>\n",
       "      <td>23</td>\n",
       "      <td>24</td>\n",
       "      <td>56</td>\n",
       "      <td>53</td>\n",
       "    </tr>\n",
       "    <tr>\n",
       "      <th>5</th>\n",
       "      <td>4</td>\n",
       "      <td>323</td>\n",
       "      <td>301</td>\n",
       "      <td>316</td>\n",
       "      <td>330</td>\n",
       "      <td>341</td>\n",
       "      <td>334</td>\n",
       "    </tr>\n",
       "    <tr>\n",
       "      <th>6</th>\n",
       "      <td>5</td>\n",
       "      <td>165</td>\n",
       "      <td>154</td>\n",
       "      <td>80</td>\n",
       "      <td>81</td>\n",
       "      <td>130</td>\n",
       "      <td>117</td>\n",
       "    </tr>\n",
       "    <tr>\n",
       "      <th>7</th>\n",
       "      <td>6</td>\n",
       "      <td>534</td>\n",
       "      <td>520</td>\n",
       "      <td>260</td>\n",
       "      <td>296</td>\n",
       "      <td>521</td>\n",
       "      <td>483</td>\n",
       "    </tr>\n",
       "    <tr>\n",
       "      <th>8</th>\n",
       "      <td>7</td>\n",
       "      <td>348</td>\n",
       "      <td>340</td>\n",
       "      <td>168</td>\n",
       "      <td>177</td>\n",
       "      <td>289</td>\n",
       "      <td>274</td>\n",
       "    </tr>\n",
       "    <tr>\n",
       "      <th>9</th>\n",
       "      <td>8</td>\n",
       "      <td>44</td>\n",
       "      <td>39</td>\n",
       "      <td>25</td>\n",
       "      <td>30</td>\n",
       "      <td>54</td>\n",
       "      <td>49</td>\n",
       "    </tr>\n",
       "  </tbody>\n",
       "</table>\n",
       "</div>"
      ],
      "text/plain": [
       "  cluster  001_MCF10A_REP1  002_MCF10A_REP2  003_MCF10AT1_REP1  \\\n",
       "0      -1              847              811                526   \n",
       "1       0              135              127                173   \n",
       "2       1               97               85                 56   \n",
       "3       2              210              195                219   \n",
       "4       3               41               37                 23   \n",
       "5       4              323              301                316   \n",
       "6       5              165              154                 80   \n",
       "7       6              534              520                260   \n",
       "8       7              348              340                168   \n",
       "9       8               44               39                 25   \n",
       "\n",
       "   004_MCF10AT1_REP2  005_MCF10CA1a_REP1  006_MCF10CA1a_REP2  \n",
       "0                597                 595                 563  \n",
       "1                176                 182                 170  \n",
       "2                 65                  74                  74  \n",
       "3                234                 274                 252  \n",
       "4                 24                  56                  53  \n",
       "5                330                 341                 334  \n",
       "6                 81                 130                 117  \n",
       "7                296                 521                 483  \n",
       "8                177                 289                 274  \n",
       "9                 30                  54                  49  "
      ]
     },
     "execution_count": 4,
     "metadata": {},
     "output_type": "execute_result"
    }
   ],
   "source": [
    "df1 = df.groupby([\"label\", \"cluster\"]).size().to_frame()\n",
    "df1.columns = [\"size\"]\n",
    "\n",
    "dfs = []\n",
    "for label, dff in df1.groupby(\"label\"):\n",
    "    dff = dff.reset_index(\"label\", drop=True).reset_index()\n",
    "    dff[\"cluster\"] = dff[\"cluster\"].astype(str)\n",
    "    dff = dff.rename(columns={\"size\": label})\n",
    "    dfs.append(dff)\n",
    "\n",
    "df1 = reduce(lambda l, r: pd.merge(l, r, on=\"cluster\"), dfs)\n",
    "df1.to_csv(\"/tmp/clique_cluster_sizes.tsv\", sep=\"\\t\", index=False)\n",
    "df1"
   ]
  },
  {
   "cell_type": "code",
   "execution_count": null,
   "id": "d744b68d-7360-4ec6-aada-1ec926b8fb46",
   "metadata": {},
   "outputs": [],
   "source": []
  }
 ],
 "metadata": {
  "kernelspec": {
   "display_name": "devel",
   "language": "python",
   "name": "devel"
  },
  "language_info": {
   "codemirror_mode": {
    "name": "ipython",
    "version": 3
   },
   "file_extension": ".py",
   "mimetype": "text/x-python",
   "name": "python",
   "nbconvert_exporter": "python",
   "pygments_lexer": "ipython3",
   "version": "3.12.4"
  }
 },
 "nbformat": 4,
 "nbformat_minor": 5
}
