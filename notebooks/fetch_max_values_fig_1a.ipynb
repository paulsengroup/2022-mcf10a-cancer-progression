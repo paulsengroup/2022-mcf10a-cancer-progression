{
 "cells": [
  {
   "cell_type": "code",
   "execution_count": 1,
   "id": "392c815d-0fd2-4ca1-919c-30c74716638c",
   "metadata": {},
   "outputs": [],
   "source": [
    "import cooler\n",
    "import glob"
   ]
  },
  {
   "cell_type": "code",
   "execution_count": 2,
   "id": "b515091a-432b-4928-9923-0fe7f2dd8774",
   "metadata": {},
   "outputs": [
    {
     "data": {
      "text/plain": [
       "['../data/output/nfcore_hic/mcools/hg38_001_MCF10A_WT_REP1.mcool',\n",
       " '../data/output/nfcore_hic/mcools/hg38_002_MCF10A_WT_REP2.mcool',\n",
       " '../data/output/nfcore_hic/mcools/hg38_003_MCF10A_T1_REP1.mcool',\n",
       " '../data/output/nfcore_hic/mcools/hg38_004_MCF10A_T1_REP2.mcool',\n",
       " '../data/output/nfcore_hic/mcools/hg38_005_MCF10A_C1_REP1.mcool',\n",
       " '../data/output/nfcore_hic/mcools/hg38_006_MCF10A_C1_REP2.mcool']"
      ]
     },
     "execution_count": 2,
     "metadata": {},
     "output_type": "execute_result"
    }
   ],
   "source": [
    "resolution = 20000\n",
    "region = \"chr1:46,000,000-66,000,000\"\n",
    "mcools = list(sorted(glob.glob(\"../data/output/nfcore_hic/mcools/hg38_00?_MCF10A*.mcool\")))\n",
    "mcools"
   ]
  },
  {
   "cell_type": "code",
   "execution_count": 3,
   "id": "9961a259-303b-4578-a208-c997b22b5048",
   "metadata": {},
   "outputs": [
    {
     "name": "stdout",
     "output_type": "stream",
     "text": [
      "../data/output/nfcore_hic/mcools/hg38_001_MCF10A_WT_REP1.mcool 0.15060634678195314\n",
      "../data/output/nfcore_hic/mcools/hg38_002_MCF10A_WT_REP2.mcool 0.16173953659021376\n",
      "../data/output/nfcore_hic/mcools/hg38_003_MCF10A_T1_REP1.mcool 0.14224729891217322\n",
      "../data/output/nfcore_hic/mcools/hg38_004_MCF10A_T1_REP2.mcool 0.14006997932136026\n",
      "../data/output/nfcore_hic/mcools/hg38_005_MCF10A_C1_REP1.mcool 0.11670928032015093\n",
      "../data/output/nfcore_hic/mcools/hg38_006_MCF10A_C1_REP2.mcool 0.12538785055817578\n"
     ]
    }
   ],
   "source": [
    "for f in mcools:\n",
    "    n = cooler.Cooler(f\"{f}::/resolutions/{resolution}\").matrix(as_pixels=True).fetch(region)[\"balanced\"].max()\n",
    "    print(f, n)"
   ]
  },
  {
   "cell_type": "code",
   "execution_count": null,
   "id": "65934d04-8e9b-4b30-a9e5-4cc1ade05a11",
   "metadata": {},
   "outputs": [],
   "source": []
  }
 ],
 "metadata": {
  "kernelspec": {
   "display_name": "devel",
   "language": "python",
   "name": "devel"
  },
  "language_info": {
   "codemirror_mode": {
    "name": "ipython",
    "version": 3
   },
   "file_extension": ".py",
   "mimetype": "text/x-python",
   "name": "python",
   "nbconvert_exporter": "python",
   "pygments_lexer": "ipython3",
   "version": "3.10.8"
  }
 },
 "nbformat": 4,
 "nbformat_minor": 5
}
