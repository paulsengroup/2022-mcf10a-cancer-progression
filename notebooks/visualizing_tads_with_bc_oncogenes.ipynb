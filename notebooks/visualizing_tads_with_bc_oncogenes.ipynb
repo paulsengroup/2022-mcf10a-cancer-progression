{
 "cells": [
  {
   "cell_type": "code",
   "execution_count": 1,
   "id": "531727e8-5a0a-4b24-b2d5-16be290c669e",
   "metadata": {},
   "outputs": [],
   "source": [
    "import higlass as hg\n",
    "import cooler\n",
    "import os\n",
    "from clodius.cli import aggregate"
   ]
  },
  {
   "cell_type": "code",
   "execution_count": 2,
   "id": "4cd79915-d752-43c9-b099-3fc61de96b74",
   "metadata": {},
   "outputs": [],
   "source": [
    "def compute_domain(coords, clr: cooler.Cooler, padding=2.0):\n",
    "    df = clr.matrix(as_pixels=True).fetch(coords)\n",
    "\n",
    "    pos1 = df[\"bin1_id\"].min() * clr.binsize\n",
    "    pos2 = df[\"bin1_id\"].max() * clr.binsize\n",
    "\n",
    "    if padding != 0.0:\n",
    "        extent = pos2 - pos1\n",
    "        new_extent = int(padding * extent)\n",
    "        pos1 -= (new_extent - extent) // 2\n",
    "        pos2 += (new_extent - extent) // 2\n",
    "\n",
    "    return max(0, pos1), pos2\n",
    "\n",
    "\n",
    "def parse_coords(coords):\n",
    "    chrom, _, coords = coords.partition(\":\")\n",
    "    start, _, end = coords.partition(\"-\")\n",
    "    start = int(start.replace(\",\", \"\"))\n",
    "    end = int(end.replace(\",\", \"\"))\n",
    "\n",
    "    return chrom, start, end\n",
    "\n",
    "\n",
    "def expand_coords(coords, chroms, padding=1_000_000):\n",
    "    chrom, start, end = parse_coords(coords)\n",
    "    padding_per_side = padding / 2\n",
    "    start = max(0, start - padding_per_side)\n",
    "    end = min(chroms[chrom], end + padding_per_side)\n",
    "\n",
    "    return f\"{chrom}:{start:.0f}-{end:.0f}\"\n",
    "\n",
    "def prepare_tads(path_to_tads, outdir):\n",
    "    name = os.path.basename(path_to_tads).removesuffix(\".bed.gz\")\n",
    "    out_path = os.path.join(outdir, f\"{name}.beddb\")\n",
    "    aggregate._bedpe(\n",
    "        path_to_tads,\n",
    "        out_path,\n",
    "        assembly=\"hg38\",\n",
    "        chr1_col=1,\n",
    "        from1_col=2,\n",
    "        to1_col=3,\n",
    "        chr2_col=1,\n",
    "        from2_col=2,\n",
    "        to2_col=3\n",
    "    )\n",
    "    return out_path"
   ]
  },
  {
   "cell_type": "code",
   "execution_count": 3,
   "id": "85b58de1-6a5a-4ee9-a3a0-01aee6733965",
   "metadata": {},
   "outputs": [],
   "source": [
    "gene_annotation_tile = hg.remote(\n",
    "    uid=\"P0PLbQMwTYGy-5uPIQid7A\",\n",
    "    server=\"https://higlass.io/api/v1/\",\n",
    "    name=\"hg38 Gene annotation\",\n",
    ")\n",
    "\n",
    "coolers = {\n",
    "    \"WT\": \"../data/output/nfcore_hic/mcools/hg38_MCF10A_WT_merged.mcool\",\n",
    "    \"T1\": \"../data/output/nfcore_hic/mcools/hg38_MCF10A_T1_merged.mcool\",\n",
    "    \"C1\": \"../data/output/nfcore_hic/mcools/hg38_MCF10A_C1_merged.mcool\"\n",
    "}\n",
    "\n",
    "tads = {\n",
    "    \"WT\": [\"../data/output/tad_analysis/ICE/50000/hg38_001_MCF10A_WT_REP1_domains.bed.gz\",\n",
    "           \"../data/output/tad_analysis/ICE/50000/hg38_002_MCF10A_WT_REP2_domains.bed.gz\"],\n",
    "    \"T1\": [\"../data/output/tad_analysis/ICE/50000/hg38_003_MCF10A_T1_REP1_domains.bed.gz\",\n",
    "           \"../data/output/tad_analysis/ICE/50000/hg38_004_MCF10A_T1_REP2_domains.bed.gz\"],\n",
    "    \"C1\": [\"../data/output/tad_analysis/ICE/50000/hg38_005_MCF10A_C1_REP1_domains.bed.gz\",\n",
    "           \"../data/output/tad_analysis/ICE/50000/hg38_006_MCF10A_C1_REP2_domains.bed.gz\"],\n",
    "}\n",
    "\n",
    "genes = {\n",
    "    \"BRCA1\": \"chr17:43,044,295-43,170,245\",\n",
    "    \"BRCA2\": \"chr13:32,315,086-32,400,268\",\n",
    "    \"TP53\": \"chr17:7,661,779-7,687,546\",\n",
    "    \"PTEN\": \"chr10:87,862,638-87,971,930\",\n",
    "    \"PIK3CA\": \"chr3:179,148,114-179,240,093\",\n",
    "    \"ERBB2\": \"chr17:39,687,914-39,730,426\",\n",
    "    \"MYC\": \"chr8:127,735,434-127,742,951\"\n",
    "}\n",
    "\n",
    "tmpdir = \"/tmp/visualizing_tads_with_bc_oncogenes\"\n",
    "os.makedirs(tmpdir, exist_ok=True)\n",
    "\n",
    "domains_beddb = {}\n",
    "\n",
    "\n",
    "chroms = cooler.Cooler(f\"{list(coolers.values())[0]}::/resolutions/1000000\").chroms()[:].set_index(\"name\")[\"length\"].to_dict()\n",
    "\n",
    "\n",
    "cooler_tracks = {}\n",
    "domains_tracks = {}\n",
    "chrom_sizes_tracks = {}\n",
    "hga_tracks = {}\n",
    "vga_tracks = {}\n",
    "\n",
    "\n",
    "for sample, (path1, path2) in tads.items():\n",
    "    domains_tracks[sample] = [hg.bed2ddb(prepare_tads(path1, tmpdir)).track(\"bedlike\", height=25)]\n",
    "    domains_tracks[sample].append(hg.bed2ddb(prepare_tads(path2, tmpdir)).track(\"bedlike\", height=25))\n",
    "\n",
    "\n",
    "tracks = {}\n",
    "\n",
    "for sample, clr in coolers.items():\n",
    "    cooler_tracks[sample] = hg.cooler(clr).track(\"linear-heatmap\", height=200, options={\"labelPosition\": \"hidden\"})\n",
    "    \n",
    "    chrom_sizes_tracks[sample] = hg.cooler(clr).track(\"chromosome-labels\", height=25, options={\"fontSize\": 16})\n",
    "    hga_tracks[sample] = gene_annotation_tile.track(\"horizontal-gene-annotations\", height=150, options={\"fontSize\": 16})\n",
    "    vga_tracks[sample] = gene_annotation_tile.track(\"vertical-gene-annotations\", width=150)\n",
    "\n",
    "\n",
    "uri = list(coolers.values())[0]\n",
    "if cooler.fileops.is_multires_file(uri):\n",
    "    grps = cooler.fileops.list_coolers(uri)\n",
    "    uri = f\"{uri}::{grps[0]}\""
   ]
  },
  {
   "cell_type": "code",
   "execution_count": 4,
   "id": "a4de0569-1cc1-467d-a3d8-7492851d232e",
   "metadata": {},
   "outputs": [
    {
     "data": {
      "text/html": [
       "\n",
       "<!DOCTYPE html>\n",
       "<html>\n",
       "  <head>\n",
       "    <link rel=\"stylesheet\" href=\"https://esm.sh/higlass@1.12/dist/hglib.css\">\n",
       "    <script src=\"https://unpkg.com/requirejs-toggle\"></script>\n",
       "    \n",
       "    <script src=\"https://unpkg.com/requirejs-toggle\"></script>\n",
       "  </head>\n",
       "  <body>\n",
       "    <div id=\"jupyter-hg-da2ab47739974076ba6808b57dddbbad\"></div>\n",
       "  </body>\n",
       "  <script type=\"module\">\n",
       "    import hglib from \"https://esm.sh/higlass@1.12?deps=react@17,react-dom@17,pixi.js@6\";\n",
       "    hglib.viewer(\n",
       "      document.getElementById('jupyter-hg-da2ab47739974076ba6808b57dddbbad'),\n",
       "      {\"editable\": true, \"viewEditable\": true, \"tracksEditable\": true, \"views\": [{\"layout\": {\"x\": 0, \"y\": 0, \"w\": 6, \"h\": 6}, \"tracks\": {\"top\": [{\"tilesetUid\": \"P0PLbQMwTYGy-5uPIQid7A\", \"server\": \"https://higlass.io/api/v1/\", \"type\": \"horizontal-gene-annotations\", \"uid\": \"bb38e62b-9445-485e-87ba-770e494a66bf\", \"height\": 150, \"options\": {\"fontSize\": 16, \"name\": \"hg38 Gene annotation\"}}, {\"tilesetUid\": \"47dfa20b5102f7edb44e596136656640\", \"server\": \"http://localhost:40825/tilesets/api/v1/\", \"type\": \"chromosome-labels\", \"uid\": \"d50b64d1-32f5-4eb0-85e9-c94f8b8b611c\", \"height\": 25, \"options\": {\"fontSize\": 16}}, {\"tilesetUid\": \"47dfa20b5102f7edb44e596136656640\", \"server\": \"http://localhost:40825/tilesets/api/v1/\", \"type\": \"linear-heatmap\", \"uid\": \"9acea9b7-63bc-41c1-8385-bdd7661038a8\", \"height\": 200, \"options\": {\"labelPosition\": \"hidden\"}}, {\"tilesetUid\": \"5175a387dd4da2d13131fd51327f7d46\", \"server\": \"http://localhost:40825/tilesets/api/v1/\", \"type\": \"bedlike\", \"uid\": \"a22515de-1c8a-42be-af5f-0694a1bb15cd\", \"height\": 25}, {\"tilesetUid\": \"e310bf79cbf002d5000473d81f4e5a5e\", \"server\": \"http://localhost:40825/tilesets/api/v1/\", \"type\": \"bedlike\", \"uid\": \"708d470a-513a-4040-afbd-a41919b64c37\", \"height\": 25}, {\"tilesetUid\": \"c961bde973e0d73cc26446b7532988f9\", \"server\": \"http://localhost:40825/tilesets/api/v1/\", \"type\": \"linear-heatmap\", \"uid\": \"a250b64e-0648-47ec-9aee-401ff7a0917d\", \"height\": 200, \"options\": {\"labelPosition\": \"hidden\"}}, {\"tilesetUid\": \"593a0f866eb80cf9d5cca970fa417527\", \"server\": \"http://localhost:40825/tilesets/api/v1/\", \"type\": \"bedlike\", \"uid\": \"5afde906-5b23-4c86-9adb-1f45c0833dc2\", \"height\": 25}, {\"tilesetUid\": \"58a9523618128cb852d3c27df2cc37e0\", \"server\": \"http://localhost:40825/tilesets/api/v1/\", \"type\": \"bedlike\", \"uid\": \"36210369-09bf-4c2a-8f62-3fe2031c304e\", \"height\": 25}, {\"tilesetUid\": \"02e969c381056765f1f31fcee7cd23be\", \"server\": \"http://localhost:40825/tilesets/api/v1/\", \"type\": \"linear-heatmap\", \"uid\": \"71e4eab1-d0bf-48d2-9f8c-a41bbfa219c5\", \"height\": 200, \"options\": {\"labelPosition\": \"hidden\"}}, {\"tilesetUid\": \"20201ab170dd1c91ffc3328ae4d6b306\", \"server\": \"http://localhost:40825/tilesets/api/v1/\", \"type\": \"bedlike\", \"uid\": \"7a56c061-c9ce-44c8-b1f1-1f0e613eaed2\", \"height\": 25}, {\"tilesetUid\": \"80f69328ecd359f8badc793360869617\", \"server\": \"http://localhost:40825/tilesets/api/v1/\", \"type\": \"bedlike\", \"uid\": \"2592e9b9-9535-4c49-b9e8-0a41b9c48d14\", \"height\": 25}]}, \"uid\": \"9554b63f-6649-4c5f-8b1b-8175aa3f48a1\", \"initialXDomain\": [2532769000.0, 2535021000.0], \"initialYDomain\": [2532769000.0, 2535021000.0], \"zoomLimits\": [1.0, null]}]},\n",
       "    );\n",
       "    </script>\n",
       "</html>"
      ],
      "text/plain": [
       "View(layout=Layout(x=0, y=0, w=6, h=6, moved=None, static=None), tracks=Tracks[TypeVar](left=None, right=None, top=[EnumTrack(tilesetUid='P0PLbQMwTYGy-5uPIQid7A', server='https://higlass.io/api/v1/', type='horizontal-gene-annotations', uid='bb38e62b-9445-485e-87ba-770e494a66bf', width=None, height=150, options={'fontSize': 16, 'name': 'hg38 Gene annotation'}, data=None, chromInfoPath=None, fromViewUid=None, x=None, y=None), EnumTrack(tilesetUid='47dfa20b5102f7edb44e596136656640', server='http://localhost:40825/tilesets/api/v1/', type='chromosome-labels', uid='d50b64d1-32f5-4eb0-85e9-c94f8b8b611c', width=None, height=25, options={'fontSize': 16}, data=None, chromInfoPath=None, fromViewUid=None, x=None, y=None), EnumTrack(tilesetUid='47dfa20b5102f7edb44e596136656640', server='http://localhost:40825/tilesets/api/v1/', type='linear-heatmap', uid='9acea9b7-63bc-41c1-8385-bdd7661038a8', width=None, height=200, options={'labelPosition': 'hidden'}, data=None, chromInfoPath=None, fromViewUid=None, x=None, y=None), EnumTrack(tilesetUid='5175a387dd4da2d13131fd51327f7d46', server='http://localhost:40825/tilesets/api/v1/', type='bedlike', uid='a22515de-1c8a-42be-af5f-0694a1bb15cd', width=None, height=25, options=None, data=None, chromInfoPath=None, fromViewUid=None, x=None, y=None), EnumTrack(tilesetUid='e310bf79cbf002d5000473d81f4e5a5e', server='http://localhost:40825/tilesets/api/v1/', type='bedlike', uid='708d470a-513a-4040-afbd-a41919b64c37', width=None, height=25, options=None, data=None, chromInfoPath=None, fromViewUid=None, x=None, y=None), EnumTrack(tilesetUid='c961bde973e0d73cc26446b7532988f9', server='http://localhost:40825/tilesets/api/v1/', type='linear-heatmap', uid='a250b64e-0648-47ec-9aee-401ff7a0917d', width=None, height=200, options={'labelPosition': 'hidden'}, data=None, chromInfoPath=None, fromViewUid=None, x=None, y=None), EnumTrack(tilesetUid='593a0f866eb80cf9d5cca970fa417527', server='http://localhost:40825/tilesets/api/v1/', type='bedlike', uid='5afde906-5b23-4c86-9adb-1f45c0833dc2', width=None, height=25, options=None, data=None, chromInfoPath=None, fromViewUid=None, x=None, y=None), EnumTrack(tilesetUid='58a9523618128cb852d3c27df2cc37e0', server='http://localhost:40825/tilesets/api/v1/', type='bedlike', uid='36210369-09bf-4c2a-8f62-3fe2031c304e', width=None, height=25, options=None, data=None, chromInfoPath=None, fromViewUid=None, x=None, y=None), EnumTrack(tilesetUid='02e969c381056765f1f31fcee7cd23be', server='http://localhost:40825/tilesets/api/v1/', type='linear-heatmap', uid='71e4eab1-d0bf-48d2-9f8c-a41bbfa219c5', width=None, height=200, options={'labelPosition': 'hidden'}, data=None, chromInfoPath=None, fromViewUid=None, x=None, y=None), EnumTrack(tilesetUid='20201ab170dd1c91ffc3328ae4d6b306', server='http://localhost:40825/tilesets/api/v1/', type='bedlike', uid='7a56c061-c9ce-44c8-b1f1-1f0e613eaed2', width=None, height=25, options=None, data=None, chromInfoPath=None, fromViewUid=None, x=None, y=None), EnumTrack(tilesetUid='80f69328ecd359f8badc793360869617', server='http://localhost:40825/tilesets/api/v1/', type='bedlike', uid='2592e9b9-9535-4c49-b9e8-0a41b9c48d14', width=None, height=25, options=None, data=None, chromInfoPath=None, fromViewUid=None, x=None, y=None)], bottom=None, center=None, whole=None, gallery=None), uid='9554b63f-6649-4c5f-8b1b-8175aa3f48a1', autocompleteSource=None, chromInfoPath=None, genomePositionSearchBox=None, genomePositionSearchBoxVisible=None, initialXDomain=(2532769000.0, 2535021000.0), initialYDomain=(2532769000.0, 2535021000.0), overlays=None, selectionView=None, zoomFixed=None, zoomLimits=(1.0, None))"
      ]
     },
     "execution_count": 4,
     "metadata": {},
     "output_type": "execute_result"
    }
   ],
   "source": [
    "domain = compute_domain(expand_coords(genes[\"BRCA1\"], chroms), cooler.Cooler(uri))\n",
    "\n",
    "width = 6\n",
    "\n",
    "view = hg.view(\n",
    "    (hga_tracks[\"WT\"], \"top\"),\n",
    "    (chrom_sizes_tracks[\"WT\"], \"top\"),\n",
    "    (cooler_tracks[\"WT\"], \"top\"),\n",
    "    (domains_tracks[\"WT\"][0], \"top\"),\n",
    "    (domains_tracks[\"WT\"][1], \"top\"),\n",
    "    (cooler_tracks[\"T1\"], \"top\"),\n",
    "    (domains_tracks[\"T1\"][0], \"top\"),\n",
    "    (domains_tracks[\"T1\"][1], \"top\"),\n",
    "    (cooler_tracks[\"C1\"], \"top\"),\n",
    "    (domains_tracks[\"C1\"][0], \"top\"),\n",
    "    (domains_tracks[\"C1\"][1], \"top\"),\n",
    "    width=width).domain(x=domain, y=domain)\n",
    "\n",
    "view"
   ]
  },
  {
   "cell_type": "code",
   "execution_count": 5,
   "id": "84cd9f2d-8b9b-4d3a-bd55-197e77a09b5e",
   "metadata": {},
   "outputs": [
    {
     "data": {
      "text/html": [
       "\n",
       "<!DOCTYPE html>\n",
       "<html>\n",
       "  <head>\n",
       "    <link rel=\"stylesheet\" href=\"https://esm.sh/higlass@1.12/dist/hglib.css\">\n",
       "    <script src=\"https://unpkg.com/requirejs-toggle\"></script>\n",
       "    \n",
       "    <script src=\"https://unpkg.com/requirejs-toggle\"></script>\n",
       "  </head>\n",
       "  <body>\n",
       "    <div id=\"jupyter-hg-b6cb9254a5054e91bdbd5a40e231a47e\"></div>\n",
       "  </body>\n",
       "  <script type=\"module\">\n",
       "    import hglib from \"https://esm.sh/higlass@1.12?deps=react@17,react-dom@17,pixi.js@6\";\n",
       "    hglib.viewer(\n",
       "      document.getElementById('jupyter-hg-b6cb9254a5054e91bdbd5a40e231a47e'),\n",
       "      {\"editable\": true, \"viewEditable\": true, \"tracksEditable\": true, \"views\": [{\"layout\": {\"x\": 0, \"y\": 0, \"w\": 6, \"h\": 6}, \"tracks\": {\"top\": [{\"tilesetUid\": \"P0PLbQMwTYGy-5uPIQid7A\", \"server\": \"https://higlass.io/api/v1/\", \"type\": \"horizontal-gene-annotations\", \"uid\": \"bb38e62b-9445-485e-87ba-770e494a66bf\", \"height\": 150, \"options\": {\"fontSize\": 16, \"name\": \"hg38 Gene annotation\"}}, {\"tilesetUid\": \"47dfa20b5102f7edb44e596136656640\", \"server\": \"http://localhost:40825/tilesets/api/v1/\", \"type\": \"chromosome-labels\", \"uid\": \"d50b64d1-32f5-4eb0-85e9-c94f8b8b611c\", \"height\": 25, \"options\": {\"fontSize\": 16}}, {\"tilesetUid\": \"47dfa20b5102f7edb44e596136656640\", \"server\": \"http://localhost:40825/tilesets/api/v1/\", \"type\": \"linear-heatmap\", \"uid\": \"9acea9b7-63bc-41c1-8385-bdd7661038a8\", \"height\": 200, \"options\": {\"labelPosition\": \"hidden\"}}, {\"tilesetUid\": \"5175a387dd4da2d13131fd51327f7d46\", \"server\": \"http://localhost:40825/tilesets/api/v1/\", \"type\": \"bedlike\", \"uid\": \"a22515de-1c8a-42be-af5f-0694a1bb15cd\", \"height\": 25}, {\"tilesetUid\": \"e310bf79cbf002d5000473d81f4e5a5e\", \"server\": \"http://localhost:40825/tilesets/api/v1/\", \"type\": \"bedlike\", \"uid\": \"708d470a-513a-4040-afbd-a41919b64c37\", \"height\": 25}, {\"tilesetUid\": \"c961bde973e0d73cc26446b7532988f9\", \"server\": \"http://localhost:40825/tilesets/api/v1/\", \"type\": \"linear-heatmap\", \"uid\": \"a250b64e-0648-47ec-9aee-401ff7a0917d\", \"height\": 200, \"options\": {\"labelPosition\": \"hidden\"}}, {\"tilesetUid\": \"593a0f866eb80cf9d5cca970fa417527\", \"server\": \"http://localhost:40825/tilesets/api/v1/\", \"type\": \"bedlike\", \"uid\": \"5afde906-5b23-4c86-9adb-1f45c0833dc2\", \"height\": 25}, {\"tilesetUid\": \"58a9523618128cb852d3c27df2cc37e0\", \"server\": \"http://localhost:40825/tilesets/api/v1/\", \"type\": \"bedlike\", \"uid\": \"36210369-09bf-4c2a-8f62-3fe2031c304e\", \"height\": 25}, {\"tilesetUid\": \"02e969c381056765f1f31fcee7cd23be\", \"server\": \"http://localhost:40825/tilesets/api/v1/\", \"type\": \"linear-heatmap\", \"uid\": \"71e4eab1-d0bf-48d2-9f8c-a41bbfa219c5\", \"height\": 200, \"options\": {\"labelPosition\": \"hidden\"}}, {\"tilesetUid\": \"20201ab170dd1c91ffc3328ae4d6b306\", \"server\": \"http://localhost:40825/tilesets/api/v1/\", \"type\": \"bedlike\", \"uid\": \"7a56c061-c9ce-44c8-b1f1-1f0e613eaed2\", \"height\": 25}, {\"tilesetUid\": \"80f69328ecd359f8badc793360869617\", \"server\": \"http://localhost:40825/tilesets/api/v1/\", \"type\": \"bedlike\", \"uid\": \"2592e9b9-9535-4c49-b9e8-0a41b9c48d14\", \"height\": 25}]}, \"uid\": \"58fed266-6a6f-4843-867b-4b7eb9ec1cf6\", \"initialXDomain\": [2108320500.0, 2110490500.0], \"initialYDomain\": [2108320500.0, 2110490500.0], \"zoomLimits\": [1.0, null]}]},\n",
       "    );\n",
       "    </script>\n",
       "</html>"
      ],
      "text/plain": [
       "View(layout=Layout(x=0, y=0, w=6, h=6, moved=None, static=None), tracks=Tracks[TypeVar](left=None, right=None, top=[EnumTrack(tilesetUid='P0PLbQMwTYGy-5uPIQid7A', server='https://higlass.io/api/v1/', type='horizontal-gene-annotations', uid='bb38e62b-9445-485e-87ba-770e494a66bf', width=None, height=150, options={'fontSize': 16, 'name': 'hg38 Gene annotation'}, data=None, chromInfoPath=None, fromViewUid=None, x=None, y=None), EnumTrack(tilesetUid='47dfa20b5102f7edb44e596136656640', server='http://localhost:40825/tilesets/api/v1/', type='chromosome-labels', uid='d50b64d1-32f5-4eb0-85e9-c94f8b8b611c', width=None, height=25, options={'fontSize': 16}, data=None, chromInfoPath=None, fromViewUid=None, x=None, y=None), EnumTrack(tilesetUid='47dfa20b5102f7edb44e596136656640', server='http://localhost:40825/tilesets/api/v1/', type='linear-heatmap', uid='9acea9b7-63bc-41c1-8385-bdd7661038a8', width=None, height=200, options={'labelPosition': 'hidden'}, data=None, chromInfoPath=None, fromViewUid=None, x=None, y=None), EnumTrack(tilesetUid='5175a387dd4da2d13131fd51327f7d46', server='http://localhost:40825/tilesets/api/v1/', type='bedlike', uid='a22515de-1c8a-42be-af5f-0694a1bb15cd', width=None, height=25, options=None, data=None, chromInfoPath=None, fromViewUid=None, x=None, y=None), EnumTrack(tilesetUid='e310bf79cbf002d5000473d81f4e5a5e', server='http://localhost:40825/tilesets/api/v1/', type='bedlike', uid='708d470a-513a-4040-afbd-a41919b64c37', width=None, height=25, options=None, data=None, chromInfoPath=None, fromViewUid=None, x=None, y=None), EnumTrack(tilesetUid='c961bde973e0d73cc26446b7532988f9', server='http://localhost:40825/tilesets/api/v1/', type='linear-heatmap', uid='a250b64e-0648-47ec-9aee-401ff7a0917d', width=None, height=200, options={'labelPosition': 'hidden'}, data=None, chromInfoPath=None, fromViewUid=None, x=None, y=None), EnumTrack(tilesetUid='593a0f866eb80cf9d5cca970fa417527', server='http://localhost:40825/tilesets/api/v1/', type='bedlike', uid='5afde906-5b23-4c86-9adb-1f45c0833dc2', width=None, height=25, options=None, data=None, chromInfoPath=None, fromViewUid=None, x=None, y=None), EnumTrack(tilesetUid='58a9523618128cb852d3c27df2cc37e0', server='http://localhost:40825/tilesets/api/v1/', type='bedlike', uid='36210369-09bf-4c2a-8f62-3fe2031c304e', width=None, height=25, options=None, data=None, chromInfoPath=None, fromViewUid=None, x=None, y=None), EnumTrack(tilesetUid='02e969c381056765f1f31fcee7cd23be', server='http://localhost:40825/tilesets/api/v1/', type='linear-heatmap', uid='71e4eab1-d0bf-48d2-9f8c-a41bbfa219c5', width=None, height=200, options={'labelPosition': 'hidden'}, data=None, chromInfoPath=None, fromViewUid=None, x=None, y=None), EnumTrack(tilesetUid='20201ab170dd1c91ffc3328ae4d6b306', server='http://localhost:40825/tilesets/api/v1/', type='bedlike', uid='7a56c061-c9ce-44c8-b1f1-1f0e613eaed2', width=None, height=25, options=None, data=None, chromInfoPath=None, fromViewUid=None, x=None, y=None), EnumTrack(tilesetUid='80f69328ecd359f8badc793360869617', server='http://localhost:40825/tilesets/api/v1/', type='bedlike', uid='2592e9b9-9535-4c49-b9e8-0a41b9c48d14', width=None, height=25, options=None, data=None, chromInfoPath=None, fromViewUid=None, x=None, y=None)], bottom=None, center=None, whole=None, gallery=None), uid='58fed266-6a6f-4843-867b-4b7eb9ec1cf6', autocompleteSource=None, chromInfoPath=None, genomePositionSearchBox=None, genomePositionSearchBoxVisible=None, initialXDomain=(2108320500.0, 2110490500.0), initialYDomain=(2108320500.0, 2110490500.0), overlays=None, selectionView=None, zoomFixed=None, zoomLimits=(1.0, None))"
      ]
     },
     "execution_count": 5,
     "metadata": {},
     "output_type": "execute_result"
    }
   ],
   "source": [
    "domain = compute_domain(expand_coords(genes[\"BRCA2\"], chroms), cooler.Cooler(uri))\n",
    "\n",
    "width = 6\n",
    "\n",
    "view = hg.view(\n",
    "    (hga_tracks[\"WT\"], \"top\"),\n",
    "    (chrom_sizes_tracks[\"WT\"], \"top\"),\n",
    "    (cooler_tracks[\"WT\"], \"top\"),\n",
    "    (domains_tracks[\"WT\"][0], \"top\"),\n",
    "    (domains_tracks[\"WT\"][1], \"top\"),\n",
    "    (cooler_tracks[\"T1\"], \"top\"),\n",
    "    (domains_tracks[\"T1\"][0], \"top\"),\n",
    "    (domains_tracks[\"T1\"][1], \"top\"),\n",
    "    (cooler_tracks[\"C1\"], \"top\"),\n",
    "    (domains_tracks[\"C1\"][0], \"top\"),\n",
    "    (domains_tracks[\"C1\"][1], \"top\"),\n",
    "    width=width).domain(x=domain, y=domain)\n",
    "\n",
    "view"
   ]
  },
  {
   "cell_type": "code",
   "execution_count": 6,
   "id": "bb0dc328-b8f6-4610-ab3a-120879108713",
   "metadata": {},
   "outputs": [
    {
     "data": {
      "text/html": [
       "\n",
       "<!DOCTYPE html>\n",
       "<html>\n",
       "  <head>\n",
       "    <link rel=\"stylesheet\" href=\"https://esm.sh/higlass@1.12/dist/hglib.css\">\n",
       "    <script src=\"https://unpkg.com/requirejs-toggle\"></script>\n",
       "    \n",
       "    <script src=\"https://unpkg.com/requirejs-toggle\"></script>\n",
       "  </head>\n",
       "  <body>\n",
       "    <div id=\"jupyter-hg-d4312c26aad44b18b73f2ec4b2f3cd63\"></div>\n",
       "  </body>\n",
       "  <script type=\"module\">\n",
       "    import hglib from \"https://esm.sh/higlass@1.12?deps=react@17,react-dom@17,pixi.js@6\";\n",
       "    hglib.viewer(\n",
       "      document.getElementById('jupyter-hg-d4312c26aad44b18b73f2ec4b2f3cd63'),\n",
       "      {\"editable\": true, \"viewEditable\": true, \"tracksEditable\": true, \"views\": [{\"layout\": {\"x\": 0, \"y\": 0, \"w\": 6, \"h\": 6}, \"tracks\": {\"top\": [{\"tilesetUid\": \"P0PLbQMwTYGy-5uPIQid7A\", \"server\": \"https://higlass.io/api/v1/\", \"type\": \"horizontal-gene-annotations\", \"uid\": \"bb38e62b-9445-485e-87ba-770e494a66bf\", \"height\": 150, \"options\": {\"fontSize\": 16, \"name\": \"hg38 Gene annotation\"}}, {\"tilesetUid\": \"47dfa20b5102f7edb44e596136656640\", \"server\": \"http://localhost:40825/tilesets/api/v1/\", \"type\": \"chromosome-labels\", \"uid\": \"d50b64d1-32f5-4eb0-85e9-c94f8b8b611c\", \"height\": 25, \"options\": {\"fontSize\": 16}}, {\"tilesetUid\": \"47dfa20b5102f7edb44e596136656640\", \"server\": \"http://localhost:40825/tilesets/api/v1/\", \"type\": \"linear-heatmap\", \"uid\": \"9acea9b7-63bc-41c1-8385-bdd7661038a8\", \"height\": 200, \"options\": {\"labelPosition\": \"hidden\"}}, {\"tilesetUid\": \"5175a387dd4da2d13131fd51327f7d46\", \"server\": \"http://localhost:40825/tilesets/api/v1/\", \"type\": \"bedlike\", \"uid\": \"a22515de-1c8a-42be-af5f-0694a1bb15cd\", \"height\": 25}, {\"tilesetUid\": \"e310bf79cbf002d5000473d81f4e5a5e\", \"server\": \"http://localhost:40825/tilesets/api/v1/\", \"type\": \"bedlike\", \"uid\": \"708d470a-513a-4040-afbd-a41919b64c37\", \"height\": 25}, {\"tilesetUid\": \"c961bde973e0d73cc26446b7532988f9\", \"server\": \"http://localhost:40825/tilesets/api/v1/\", \"type\": \"linear-heatmap\", \"uid\": \"a250b64e-0648-47ec-9aee-401ff7a0917d\", \"height\": 200, \"options\": {\"labelPosition\": \"hidden\"}}, {\"tilesetUid\": \"593a0f866eb80cf9d5cca970fa417527\", \"server\": \"http://localhost:40825/tilesets/api/v1/\", \"type\": \"bedlike\", \"uid\": \"5afde906-5b23-4c86-9adb-1f45c0833dc2\", \"height\": 25}, {\"tilesetUid\": \"58a9523618128cb852d3c27df2cc37e0\", \"server\": \"http://localhost:40825/tilesets/api/v1/\", \"type\": \"bedlike\", \"uid\": \"36210369-09bf-4c2a-8f62-3fe2031c304e\", \"height\": 25}, {\"tilesetUid\": \"02e969c381056765f1f31fcee7cd23be\", \"server\": \"http://localhost:40825/tilesets/api/v1/\", \"type\": \"linear-heatmap\", \"uid\": \"71e4eab1-d0bf-48d2-9f8c-a41bbfa219c5\", \"height\": 200, \"options\": {\"labelPosition\": \"hidden\"}}, {\"tilesetUid\": \"20201ab170dd1c91ffc3328ae4d6b306\", \"server\": \"http://localhost:40825/tilesets/api/v1/\", \"type\": \"bedlike\", \"uid\": \"7a56c061-c9ce-44c8-b1f1-1f0e613eaed2\", \"height\": 25}, {\"tilesetUid\": \"80f69328ecd359f8badc793360869617\", \"server\": \"http://localhost:40825/tilesets/api/v1/\", \"type\": \"bedlike\", \"uid\": \"2592e9b9-9535-4c49-b9e8-0a41b9c48d14\", \"height\": 25}]}, \"uid\": \"1578cb71-d878-48ff-a4af-9948066fd9b0\", \"initialXDomain\": [2497436000.0, 2499488000.0], \"initialYDomain\": [2497436000.0, 2499488000.0], \"zoomLimits\": [1.0, null]}]},\n",
       "    );\n",
       "    </script>\n",
       "</html>"
      ],
      "text/plain": [
       "View(layout=Layout(x=0, y=0, w=6, h=6, moved=None, static=None), tracks=Tracks[TypeVar](left=None, right=None, top=[EnumTrack(tilesetUid='P0PLbQMwTYGy-5uPIQid7A', server='https://higlass.io/api/v1/', type='horizontal-gene-annotations', uid='bb38e62b-9445-485e-87ba-770e494a66bf', width=None, height=150, options={'fontSize': 16, 'name': 'hg38 Gene annotation'}, data=None, chromInfoPath=None, fromViewUid=None, x=None, y=None), EnumTrack(tilesetUid='47dfa20b5102f7edb44e596136656640', server='http://localhost:40825/tilesets/api/v1/', type='chromosome-labels', uid='d50b64d1-32f5-4eb0-85e9-c94f8b8b611c', width=None, height=25, options={'fontSize': 16}, data=None, chromInfoPath=None, fromViewUid=None, x=None, y=None), EnumTrack(tilesetUid='47dfa20b5102f7edb44e596136656640', server='http://localhost:40825/tilesets/api/v1/', type='linear-heatmap', uid='9acea9b7-63bc-41c1-8385-bdd7661038a8', width=None, height=200, options={'labelPosition': 'hidden'}, data=None, chromInfoPath=None, fromViewUid=None, x=None, y=None), EnumTrack(tilesetUid='5175a387dd4da2d13131fd51327f7d46', server='http://localhost:40825/tilesets/api/v1/', type='bedlike', uid='a22515de-1c8a-42be-af5f-0694a1bb15cd', width=None, height=25, options=None, data=None, chromInfoPath=None, fromViewUid=None, x=None, y=None), EnumTrack(tilesetUid='e310bf79cbf002d5000473d81f4e5a5e', server='http://localhost:40825/tilesets/api/v1/', type='bedlike', uid='708d470a-513a-4040-afbd-a41919b64c37', width=None, height=25, options=None, data=None, chromInfoPath=None, fromViewUid=None, x=None, y=None), EnumTrack(tilesetUid='c961bde973e0d73cc26446b7532988f9', server='http://localhost:40825/tilesets/api/v1/', type='linear-heatmap', uid='a250b64e-0648-47ec-9aee-401ff7a0917d', width=None, height=200, options={'labelPosition': 'hidden'}, data=None, chromInfoPath=None, fromViewUid=None, x=None, y=None), EnumTrack(tilesetUid='593a0f866eb80cf9d5cca970fa417527', server='http://localhost:40825/tilesets/api/v1/', type='bedlike', uid='5afde906-5b23-4c86-9adb-1f45c0833dc2', width=None, height=25, options=None, data=None, chromInfoPath=None, fromViewUid=None, x=None, y=None), EnumTrack(tilesetUid='58a9523618128cb852d3c27df2cc37e0', server='http://localhost:40825/tilesets/api/v1/', type='bedlike', uid='36210369-09bf-4c2a-8f62-3fe2031c304e', width=None, height=25, options=None, data=None, chromInfoPath=None, fromViewUid=None, x=None, y=None), EnumTrack(tilesetUid='02e969c381056765f1f31fcee7cd23be', server='http://localhost:40825/tilesets/api/v1/', type='linear-heatmap', uid='71e4eab1-d0bf-48d2-9f8c-a41bbfa219c5', width=None, height=200, options={'labelPosition': 'hidden'}, data=None, chromInfoPath=None, fromViewUid=None, x=None, y=None), EnumTrack(tilesetUid='20201ab170dd1c91ffc3328ae4d6b306', server='http://localhost:40825/tilesets/api/v1/', type='bedlike', uid='7a56c061-c9ce-44c8-b1f1-1f0e613eaed2', width=None, height=25, options=None, data=None, chromInfoPath=None, fromViewUid=None, x=None, y=None), EnumTrack(tilesetUid='80f69328ecd359f8badc793360869617', server='http://localhost:40825/tilesets/api/v1/', type='bedlike', uid='2592e9b9-9535-4c49-b9e8-0a41b9c48d14', width=None, height=25, options=None, data=None, chromInfoPath=None, fromViewUid=None, x=None, y=None)], bottom=None, center=None, whole=None, gallery=None), uid='1578cb71-d878-48ff-a4af-9948066fd9b0', autocompleteSource=None, chromInfoPath=None, genomePositionSearchBox=None, genomePositionSearchBoxVisible=None, initialXDomain=(2497436000.0, 2499488000.0), initialYDomain=(2497436000.0, 2499488000.0), overlays=None, selectionView=None, zoomFixed=None, zoomLimits=(1.0, None))"
      ]
     },
     "execution_count": 6,
     "metadata": {},
     "output_type": "execute_result"
    }
   ],
   "source": [
    "domain = compute_domain(expand_coords(genes[\"TP53\"], chroms), cooler.Cooler(uri))\n",
    "\n",
    "width = 6\n",
    "\n",
    "view = hg.view(\n",
    "    (hga_tracks[\"WT\"], \"top\"),\n",
    "    (chrom_sizes_tracks[\"WT\"], \"top\"),\n",
    "    (cooler_tracks[\"WT\"], \"top\"),\n",
    "    (domains_tracks[\"WT\"][0], \"top\"),\n",
    "    (domains_tracks[\"WT\"][1], \"top\"),\n",
    "    (cooler_tracks[\"T1\"], \"top\"),\n",
    "    (domains_tracks[\"T1\"][0], \"top\"),\n",
    "    (domains_tracks[\"T1\"][1], \"top\"),\n",
    "    (cooler_tracks[\"C1\"], \"top\"),\n",
    "    (domains_tracks[\"C1\"][0], \"top\"),\n",
    "    (domains_tracks[\"C1\"][1], \"top\"),\n",
    "    width=width).domain(x=domain, y=domain)\n",
    "\n",
    "view"
   ]
  },
  {
   "cell_type": "code",
   "execution_count": 7,
   "id": "c268b524-31e4-4da2-800a-2786c45afc78",
   "metadata": {},
   "outputs": [
    {
     "data": {
      "text/html": [
       "\n",
       "<!DOCTYPE html>\n",
       "<html>\n",
       "  <head>\n",
       "    <link rel=\"stylesheet\" href=\"https://esm.sh/higlass@1.12/dist/hglib.css\">\n",
       "    <script src=\"https://unpkg.com/requirejs-toggle\"></script>\n",
       "    \n",
       "    <script src=\"https://unpkg.com/requirejs-toggle\"></script>\n",
       "  </head>\n",
       "  <body>\n",
       "    <div id=\"jupyter-hg-448970a2e86a4b4abacb805c85d801e1\"></div>\n",
       "  </body>\n",
       "  <script type=\"module\">\n",
       "    import hglib from \"https://esm.sh/higlass@1.12?deps=react@17,react-dom@17,pixi.js@6\";\n",
       "    hglib.viewer(\n",
       "      document.getElementById('jupyter-hg-448970a2e86a4b4abacb805c85d801e1'),\n",
       "      {\"editable\": true, \"viewEditable\": true, \"tracksEditable\": true, \"views\": [{\"layout\": {\"x\": 0, \"y\": 0, \"w\": 6, \"h\": 6}, \"tracks\": {\"top\": [{\"tilesetUid\": \"P0PLbQMwTYGy-5uPIQid7A\", \"server\": \"https://higlass.io/api/v1/\", \"type\": \"horizontal-gene-annotations\", \"uid\": \"bb38e62b-9445-485e-87ba-770e494a66bf\", \"height\": 150, \"options\": {\"fontSize\": 16, \"name\": \"hg38 Gene annotation\"}}, {\"tilesetUid\": \"47dfa20b5102f7edb44e596136656640\", \"server\": \"http://localhost:40825/tilesets/api/v1/\", \"type\": \"chromosome-labels\", \"uid\": \"d50b64d1-32f5-4eb0-85e9-c94f8b8b611c\", \"height\": 25, \"options\": {\"fontSize\": 16}}, {\"tilesetUid\": \"47dfa20b5102f7edb44e596136656640\", \"server\": \"http://localhost:40825/tilesets/api/v1/\", \"type\": \"linear-heatmap\", \"uid\": \"9acea9b7-63bc-41c1-8385-bdd7661038a8\", \"height\": 200, \"options\": {\"labelPosition\": \"hidden\"}}, {\"tilesetUid\": \"5175a387dd4da2d13131fd51327f7d46\", \"server\": \"http://localhost:40825/tilesets/api/v1/\", \"type\": \"bedlike\", \"uid\": \"a22515de-1c8a-42be-af5f-0694a1bb15cd\", \"height\": 25}, {\"tilesetUid\": \"e310bf79cbf002d5000473d81f4e5a5e\", \"server\": \"http://localhost:40825/tilesets/api/v1/\", \"type\": \"bedlike\", \"uid\": \"708d470a-513a-4040-afbd-a41919b64c37\", \"height\": 25}, {\"tilesetUid\": \"c961bde973e0d73cc26446b7532988f9\", \"server\": \"http://localhost:40825/tilesets/api/v1/\", \"type\": \"linear-heatmap\", \"uid\": \"a250b64e-0648-47ec-9aee-401ff7a0917d\", \"height\": 200, \"options\": {\"labelPosition\": \"hidden\"}}, {\"tilesetUid\": \"593a0f866eb80cf9d5cca970fa417527\", \"server\": \"http://localhost:40825/tilesets/api/v1/\", \"type\": \"bedlike\", \"uid\": \"5afde906-5b23-4c86-9adb-1f45c0833dc2\", \"height\": 25}, {\"tilesetUid\": \"58a9523618128cb852d3c27df2cc37e0\", \"server\": \"http://localhost:40825/tilesets/api/v1/\", \"type\": \"bedlike\", \"uid\": \"36210369-09bf-4c2a-8f62-3fe2031c304e\", \"height\": 25}, {\"tilesetUid\": \"02e969c381056765f1f31fcee7cd23be\", \"server\": \"http://localhost:40825/tilesets/api/v1/\", \"type\": \"linear-heatmap\", \"uid\": \"71e4eab1-d0bf-48d2-9f8c-a41bbfa219c5\", \"height\": 200, \"options\": {\"labelPosition\": \"hidden\"}}, {\"tilesetUid\": \"20201ab170dd1c91ffc3328ae4d6b306\", \"server\": \"http://localhost:40825/tilesets/api/v1/\", \"type\": \"bedlike\", \"uid\": \"7a56c061-c9ce-44c8-b1f1-1f0e613eaed2\", \"height\": 25}, {\"tilesetUid\": \"80f69328ecd359f8badc793360869617\", \"server\": \"http://localhost:40825/tilesets/api/v1/\", \"type\": \"bedlike\", \"uid\": \"2592e9b9-9535-4c49-b9e8-0a41b9c48d14\", \"height\": 25}]}, \"uid\": \"85c0b4c3-2450-41ec-9b39-acb270823956\", \"initialXDomain\": [1761694500.0, 1763912500.0], \"initialYDomain\": [1761694500.0, 1763912500.0], \"zoomLimits\": [1.0, null]}]},\n",
       "    );\n",
       "    </script>\n",
       "</html>"
      ],
      "text/plain": [
       "View(layout=Layout(x=0, y=0, w=6, h=6, moved=None, static=None), tracks=Tracks[TypeVar](left=None, right=None, top=[EnumTrack(tilesetUid='P0PLbQMwTYGy-5uPIQid7A', server='https://higlass.io/api/v1/', type='horizontal-gene-annotations', uid='bb38e62b-9445-485e-87ba-770e494a66bf', width=None, height=150, options={'fontSize': 16, 'name': 'hg38 Gene annotation'}, data=None, chromInfoPath=None, fromViewUid=None, x=None, y=None), EnumTrack(tilesetUid='47dfa20b5102f7edb44e596136656640', server='http://localhost:40825/tilesets/api/v1/', type='chromosome-labels', uid='d50b64d1-32f5-4eb0-85e9-c94f8b8b611c', width=None, height=25, options={'fontSize': 16}, data=None, chromInfoPath=None, fromViewUid=None, x=None, y=None), EnumTrack(tilesetUid='47dfa20b5102f7edb44e596136656640', server='http://localhost:40825/tilesets/api/v1/', type='linear-heatmap', uid='9acea9b7-63bc-41c1-8385-bdd7661038a8', width=None, height=200, options={'labelPosition': 'hidden'}, data=None, chromInfoPath=None, fromViewUid=None, x=None, y=None), EnumTrack(tilesetUid='5175a387dd4da2d13131fd51327f7d46', server='http://localhost:40825/tilesets/api/v1/', type='bedlike', uid='a22515de-1c8a-42be-af5f-0694a1bb15cd', width=None, height=25, options=None, data=None, chromInfoPath=None, fromViewUid=None, x=None, y=None), EnumTrack(tilesetUid='e310bf79cbf002d5000473d81f4e5a5e', server='http://localhost:40825/tilesets/api/v1/', type='bedlike', uid='708d470a-513a-4040-afbd-a41919b64c37', width=None, height=25, options=None, data=None, chromInfoPath=None, fromViewUid=None, x=None, y=None), EnumTrack(tilesetUid='c961bde973e0d73cc26446b7532988f9', server='http://localhost:40825/tilesets/api/v1/', type='linear-heatmap', uid='a250b64e-0648-47ec-9aee-401ff7a0917d', width=None, height=200, options={'labelPosition': 'hidden'}, data=None, chromInfoPath=None, fromViewUid=None, x=None, y=None), EnumTrack(tilesetUid='593a0f866eb80cf9d5cca970fa417527', server='http://localhost:40825/tilesets/api/v1/', type='bedlike', uid='5afde906-5b23-4c86-9adb-1f45c0833dc2', width=None, height=25, options=None, data=None, chromInfoPath=None, fromViewUid=None, x=None, y=None), EnumTrack(tilesetUid='58a9523618128cb852d3c27df2cc37e0', server='http://localhost:40825/tilesets/api/v1/', type='bedlike', uid='36210369-09bf-4c2a-8f62-3fe2031c304e', width=None, height=25, options=None, data=None, chromInfoPath=None, fromViewUid=None, x=None, y=None), EnumTrack(tilesetUid='02e969c381056765f1f31fcee7cd23be', server='http://localhost:40825/tilesets/api/v1/', type='linear-heatmap', uid='71e4eab1-d0bf-48d2-9f8c-a41bbfa219c5', width=None, height=200, options={'labelPosition': 'hidden'}, data=None, chromInfoPath=None, fromViewUid=None, x=None, y=None), EnumTrack(tilesetUid='20201ab170dd1c91ffc3328ae4d6b306', server='http://localhost:40825/tilesets/api/v1/', type='bedlike', uid='7a56c061-c9ce-44c8-b1f1-1f0e613eaed2', width=None, height=25, options=None, data=None, chromInfoPath=None, fromViewUid=None, x=None, y=None), EnumTrack(tilesetUid='80f69328ecd359f8badc793360869617', server='http://localhost:40825/tilesets/api/v1/', type='bedlike', uid='2592e9b9-9535-4c49-b9e8-0a41b9c48d14', width=None, height=25, options=None, data=None, chromInfoPath=None, fromViewUid=None, x=None, y=None)], bottom=None, center=None, whole=None, gallery=None), uid='85c0b4c3-2450-41ec-9b39-acb270823956', autocompleteSource=None, chromInfoPath=None, genomePositionSearchBox=None, genomePositionSearchBoxVisible=None, initialXDomain=(1761694500.0, 1763912500.0), initialYDomain=(1761694500.0, 1763912500.0), overlays=None, selectionView=None, zoomFixed=None, zoomLimits=(1.0, None))"
      ]
     },
     "execution_count": 7,
     "metadata": {},
     "output_type": "execute_result"
    }
   ],
   "source": [
    "domain = compute_domain(expand_coords(genes[\"PTEN\"], chroms), cooler.Cooler(uri))\n",
    "\n",
    "width = 6\n",
    "\n",
    "view = hg.view(\n",
    "    (hga_tracks[\"WT\"], \"top\"),\n",
    "    (chrom_sizes_tracks[\"WT\"], \"top\"),\n",
    "    (cooler_tracks[\"WT\"], \"top\"),\n",
    "    (domains_tracks[\"WT\"][0], \"top\"),\n",
    "    (domains_tracks[\"WT\"][1], \"top\"),\n",
    "    (cooler_tracks[\"T1\"], \"top\"),\n",
    "    (domains_tracks[\"T1\"][0], \"top\"),\n",
    "    (domains_tracks[\"T1\"][1], \"top\"),\n",
    "    (cooler_tracks[\"C1\"], \"top\"),\n",
    "    (domains_tracks[\"C1\"][0], \"top\"),\n",
    "    (domains_tracks[\"C1\"][1], \"top\"),\n",
    "    width=width).domain(x=domain, y=domain)\n",
    "\n",
    "view"
   ]
  },
  {
   "cell_type": "code",
   "execution_count": 8,
   "id": "4c7a3c21-bc55-438c-b132-9a39b4077a5e",
   "metadata": {},
   "outputs": [
    {
     "data": {
      "text/html": [
       "\n",
       "<!DOCTYPE html>\n",
       "<html>\n",
       "  <head>\n",
       "    <link rel=\"stylesheet\" href=\"https://esm.sh/higlass@1.12/dist/hglib.css\">\n",
       "    <script src=\"https://unpkg.com/requirejs-toggle\"></script>\n",
       "    \n",
       "    <script src=\"https://unpkg.com/requirejs-toggle\"></script>\n",
       "  </head>\n",
       "  <body>\n",
       "    <div id=\"jupyter-hg-a2439dca24cf41af806ee43f1a505de8\"></div>\n",
       "  </body>\n",
       "  <script type=\"module\">\n",
       "    import hglib from \"https://esm.sh/higlass@1.12?deps=react@17,react-dom@17,pixi.js@6\";\n",
       "    hglib.viewer(\n",
       "      document.getElementById('jupyter-hg-a2439dca24cf41af806ee43f1a505de8'),\n",
       "      {\"editable\": true, \"viewEditable\": true, \"tracksEditable\": true, \"views\": [{\"layout\": {\"x\": 0, \"y\": 0, \"w\": 6, \"h\": 6}, \"tracks\": {\"top\": [{\"tilesetUid\": \"P0PLbQMwTYGy-5uPIQid7A\", \"server\": \"https://higlass.io/api/v1/\", \"type\": \"horizontal-gene-annotations\", \"uid\": \"bb38e62b-9445-485e-87ba-770e494a66bf\", \"height\": 150, \"options\": {\"fontSize\": 16, \"name\": \"hg38 Gene annotation\"}}, {\"tilesetUid\": \"47dfa20b5102f7edb44e596136656640\", \"server\": \"http://localhost:40825/tilesets/api/v1/\", \"type\": \"chromosome-labels\", \"uid\": \"d50b64d1-32f5-4eb0-85e9-c94f8b8b611c\", \"height\": 25, \"options\": {\"fontSize\": 16}}, {\"tilesetUid\": \"47dfa20b5102f7edb44e596136656640\", \"server\": \"http://localhost:40825/tilesets/api/v1/\", \"type\": \"linear-heatmap\", \"uid\": \"9acea9b7-63bc-41c1-8385-bdd7661038a8\", \"height\": 200, \"options\": {\"labelPosition\": \"hidden\"}}, {\"tilesetUid\": \"5175a387dd4da2d13131fd51327f7d46\", \"server\": \"http://localhost:40825/tilesets/api/v1/\", \"type\": \"bedlike\", \"uid\": \"a22515de-1c8a-42be-af5f-0694a1bb15cd\", \"height\": 25}, {\"tilesetUid\": \"e310bf79cbf002d5000473d81f4e5a5e\", \"server\": \"http://localhost:40825/tilesets/api/v1/\", \"type\": \"bedlike\", \"uid\": \"708d470a-513a-4040-afbd-a41919b64c37\", \"height\": 25}, {\"tilesetUid\": \"c961bde973e0d73cc26446b7532988f9\", \"server\": \"http://localhost:40825/tilesets/api/v1/\", \"type\": \"linear-heatmap\", \"uid\": \"a250b64e-0648-47ec-9aee-401ff7a0917d\", \"height\": 200, \"options\": {\"labelPosition\": \"hidden\"}}, {\"tilesetUid\": \"593a0f866eb80cf9d5cca970fa417527\", \"server\": \"http://localhost:40825/tilesets/api/v1/\", \"type\": \"bedlike\", \"uid\": \"5afde906-5b23-4c86-9adb-1f45c0833dc2\", \"height\": 25}, {\"tilesetUid\": \"58a9523618128cb852d3c27df2cc37e0\", \"server\": \"http://localhost:40825/tilesets/api/v1/\", \"type\": \"bedlike\", \"uid\": \"36210369-09bf-4c2a-8f62-3fe2031c304e\", \"height\": 25}, {\"tilesetUid\": \"02e969c381056765f1f31fcee7cd23be\", \"server\": \"http://localhost:40825/tilesets/api/v1/\", \"type\": \"linear-heatmap\", \"uid\": \"71e4eab1-d0bf-48d2-9f8c-a41bbfa219c5\", \"height\": 200, \"options\": {\"labelPosition\": \"hidden\"}}, {\"tilesetUid\": \"20201ab170dd1c91ffc3328ae4d6b306\", \"server\": \"http://localhost:40825/tilesets/api/v1/\", \"type\": \"bedlike\", \"uid\": \"7a56c061-c9ce-44c8-b1f1-1f0e613eaed2\", \"height\": 25}, {\"tilesetUid\": \"80f69328ecd359f8badc793360869617\", \"server\": \"http://localhost:40825/tilesets/api/v1/\", \"type\": \"bedlike\", \"uid\": \"2592e9b9-9535-4c49-b9e8-0a41b9c48d14\", \"height\": 25}]}, \"uid\": \"1a78413d-a275-43dd-be4c-316a5afcfcbc\", \"initialXDomain\": [669253000.0, 671437000.0], \"initialYDomain\": [669253000.0, 671437000.0], \"zoomLimits\": [1.0, null]}]},\n",
       "    );\n",
       "    </script>\n",
       "</html>"
      ],
      "text/plain": [
       "View(layout=Layout(x=0, y=0, w=6, h=6, moved=None, static=None), tracks=Tracks[TypeVar](left=None, right=None, top=[EnumTrack(tilesetUid='P0PLbQMwTYGy-5uPIQid7A', server='https://higlass.io/api/v1/', type='horizontal-gene-annotations', uid='bb38e62b-9445-485e-87ba-770e494a66bf', width=None, height=150, options={'fontSize': 16, 'name': 'hg38 Gene annotation'}, data=None, chromInfoPath=None, fromViewUid=None, x=None, y=None), EnumTrack(tilesetUid='47dfa20b5102f7edb44e596136656640', server='http://localhost:40825/tilesets/api/v1/', type='chromosome-labels', uid='d50b64d1-32f5-4eb0-85e9-c94f8b8b611c', width=None, height=25, options={'fontSize': 16}, data=None, chromInfoPath=None, fromViewUid=None, x=None, y=None), EnumTrack(tilesetUid='47dfa20b5102f7edb44e596136656640', server='http://localhost:40825/tilesets/api/v1/', type='linear-heatmap', uid='9acea9b7-63bc-41c1-8385-bdd7661038a8', width=None, height=200, options={'labelPosition': 'hidden'}, data=None, chromInfoPath=None, fromViewUid=None, x=None, y=None), EnumTrack(tilesetUid='5175a387dd4da2d13131fd51327f7d46', server='http://localhost:40825/tilesets/api/v1/', type='bedlike', uid='a22515de-1c8a-42be-af5f-0694a1bb15cd', width=None, height=25, options=None, data=None, chromInfoPath=None, fromViewUid=None, x=None, y=None), EnumTrack(tilesetUid='e310bf79cbf002d5000473d81f4e5a5e', server='http://localhost:40825/tilesets/api/v1/', type='bedlike', uid='708d470a-513a-4040-afbd-a41919b64c37', width=None, height=25, options=None, data=None, chromInfoPath=None, fromViewUid=None, x=None, y=None), EnumTrack(tilesetUid='c961bde973e0d73cc26446b7532988f9', server='http://localhost:40825/tilesets/api/v1/', type='linear-heatmap', uid='a250b64e-0648-47ec-9aee-401ff7a0917d', width=None, height=200, options={'labelPosition': 'hidden'}, data=None, chromInfoPath=None, fromViewUid=None, x=None, y=None), EnumTrack(tilesetUid='593a0f866eb80cf9d5cca970fa417527', server='http://localhost:40825/tilesets/api/v1/', type='bedlike', uid='5afde906-5b23-4c86-9adb-1f45c0833dc2', width=None, height=25, options=None, data=None, chromInfoPath=None, fromViewUid=None, x=None, y=None), EnumTrack(tilesetUid='58a9523618128cb852d3c27df2cc37e0', server='http://localhost:40825/tilesets/api/v1/', type='bedlike', uid='36210369-09bf-4c2a-8f62-3fe2031c304e', width=None, height=25, options=None, data=None, chromInfoPath=None, fromViewUid=None, x=None, y=None), EnumTrack(tilesetUid='02e969c381056765f1f31fcee7cd23be', server='http://localhost:40825/tilesets/api/v1/', type='linear-heatmap', uid='71e4eab1-d0bf-48d2-9f8c-a41bbfa219c5', width=None, height=200, options={'labelPosition': 'hidden'}, data=None, chromInfoPath=None, fromViewUid=None, x=None, y=None), EnumTrack(tilesetUid='20201ab170dd1c91ffc3328ae4d6b306', server='http://localhost:40825/tilesets/api/v1/', type='bedlike', uid='7a56c061-c9ce-44c8-b1f1-1f0e613eaed2', width=None, height=25, options=None, data=None, chromInfoPath=None, fromViewUid=None, x=None, y=None), EnumTrack(tilesetUid='80f69328ecd359f8badc793360869617', server='http://localhost:40825/tilesets/api/v1/', type='bedlike', uid='2592e9b9-9535-4c49-b9e8-0a41b9c48d14', width=None, height=25, options=None, data=None, chromInfoPath=None, fromViewUid=None, x=None, y=None)], bottom=None, center=None, whole=None, gallery=None), uid='1a78413d-a275-43dd-be4c-316a5afcfcbc', autocompleteSource=None, chromInfoPath=None, genomePositionSearchBox=None, genomePositionSearchBoxVisible=None, initialXDomain=(669253000.0, 671437000.0), initialYDomain=(669253000.0, 671437000.0), overlays=None, selectionView=None, zoomFixed=None, zoomLimits=(1.0, None))"
      ]
     },
     "execution_count": 8,
     "metadata": {},
     "output_type": "execute_result"
    }
   ],
   "source": [
    "domain = compute_domain(expand_coords(genes[\"PIK3CA\"], chroms), cooler.Cooler(uri))\n",
    "\n",
    "width = 6\n",
    "\n",
    "view = hg.view(\n",
    "    (hga_tracks[\"WT\"], \"top\"),\n",
    "    (chrom_sizes_tracks[\"WT\"], \"top\"),\n",
    "    (cooler_tracks[\"WT\"], \"top\"),\n",
    "    (domains_tracks[\"WT\"][0], \"top\"),\n",
    "    (domains_tracks[\"WT\"][1], \"top\"),\n",
    "    (cooler_tracks[\"T1\"], \"top\"),\n",
    "    (domains_tracks[\"T1\"][0], \"top\"),\n",
    "    (domains_tracks[\"T1\"][1], \"top\"),\n",
    "    (cooler_tracks[\"C1\"], \"top\"),\n",
    "    (domains_tracks[\"C1\"][0], \"top\"),\n",
    "    (domains_tracks[\"C1\"][1], \"top\"),\n",
    "    width=width).domain(x=domain, y=domain)\n",
    "\n",
    "view"
   ]
  },
  {
   "cell_type": "code",
   "execution_count": 9,
   "id": "fb6d5467-7a1f-4fc3-9fe6-c529e4f9058e",
   "metadata": {},
   "outputs": [
    {
     "data": {
      "text/html": [
       "\n",
       "<!DOCTYPE html>\n",
       "<html>\n",
       "  <head>\n",
       "    <link rel=\"stylesheet\" href=\"https://esm.sh/higlass@1.12/dist/hglib.css\">\n",
       "    <script src=\"https://unpkg.com/requirejs-toggle\"></script>\n",
       "    \n",
       "    <script src=\"https://unpkg.com/requirejs-toggle\"></script>\n",
       "  </head>\n",
       "  <body>\n",
       "    <div id=\"jupyter-hg-7a637b2dce1b44ca9bf9e8f9cbbc3241\"></div>\n",
       "  </body>\n",
       "  <script type=\"module\">\n",
       "    import hglib from \"https://esm.sh/higlass@1.12?deps=react@17,react-dom@17,pixi.js@6\";\n",
       "    hglib.viewer(\n",
       "      document.getElementById('jupyter-hg-7a637b2dce1b44ca9bf9e8f9cbbc3241'),\n",
       "      {\"editable\": true, \"viewEditable\": true, \"tracksEditable\": true, \"views\": [{\"layout\": {\"x\": 0, \"y\": 0, \"w\": 6, \"h\": 6}, \"tracks\": {\"top\": [{\"tilesetUid\": \"P0PLbQMwTYGy-5uPIQid7A\", \"server\": \"https://higlass.io/api/v1/\", \"type\": \"horizontal-gene-annotations\", \"uid\": \"bb38e62b-9445-485e-87ba-770e494a66bf\", \"height\": 150, \"options\": {\"fontSize\": 16, \"name\": \"hg38 Gene annotation\"}}, {\"tilesetUid\": \"47dfa20b5102f7edb44e596136656640\", \"server\": \"http://localhost:40825/tilesets/api/v1/\", \"type\": \"chromosome-labels\", \"uid\": \"d50b64d1-32f5-4eb0-85e9-c94f8b8b611c\", \"height\": 25, \"options\": {\"fontSize\": 16}}, {\"tilesetUid\": \"47dfa20b5102f7edb44e596136656640\", \"server\": \"http://localhost:40825/tilesets/api/v1/\", \"type\": \"linear-heatmap\", \"uid\": \"9acea9b7-63bc-41c1-8385-bdd7661038a8\", \"height\": 200, \"options\": {\"labelPosition\": \"hidden\"}}, {\"tilesetUid\": \"5175a387dd4da2d13131fd51327f7d46\", \"server\": \"http://localhost:40825/tilesets/api/v1/\", \"type\": \"bedlike\", \"uid\": \"a22515de-1c8a-42be-af5f-0694a1bb15cd\", \"height\": 25}, {\"tilesetUid\": \"e310bf79cbf002d5000473d81f4e5a5e\", \"server\": \"http://localhost:40825/tilesets/api/v1/\", \"type\": \"bedlike\", \"uid\": \"708d470a-513a-4040-afbd-a41919b64c37\", \"height\": 25}, {\"tilesetUid\": \"c961bde973e0d73cc26446b7532988f9\", \"server\": \"http://localhost:40825/tilesets/api/v1/\", \"type\": \"linear-heatmap\", \"uid\": \"a250b64e-0648-47ec-9aee-401ff7a0917d\", \"height\": 200, \"options\": {\"labelPosition\": \"hidden\"}}, {\"tilesetUid\": \"593a0f866eb80cf9d5cca970fa417527\", \"server\": \"http://localhost:40825/tilesets/api/v1/\", \"type\": \"bedlike\", \"uid\": \"5afde906-5b23-4c86-9adb-1f45c0833dc2\", \"height\": 25}, {\"tilesetUid\": \"58a9523618128cb852d3c27df2cc37e0\", \"server\": \"http://localhost:40825/tilesets/api/v1/\", \"type\": \"bedlike\", \"uid\": \"36210369-09bf-4c2a-8f62-3fe2031c304e\", \"height\": 25}, {\"tilesetUid\": \"02e969c381056765f1f31fcee7cd23be\", \"server\": \"http://localhost:40825/tilesets/api/v1/\", \"type\": \"linear-heatmap\", \"uid\": \"71e4eab1-d0bf-48d2-9f8c-a41bbfa219c5\", \"height\": 200, \"options\": {\"labelPosition\": \"hidden\"}}, {\"tilesetUid\": \"20201ab170dd1c91ffc3328ae4d6b306\", \"server\": \"http://localhost:40825/tilesets/api/v1/\", \"type\": \"bedlike\", \"uid\": \"7a56c061-c9ce-44c8-b1f1-1f0e613eaed2\", \"height\": 25}, {\"tilesetUid\": \"80f69328ecd359f8badc793360869617\", \"server\": \"http://localhost:40825/tilesets/api/v1/\", \"type\": \"bedlike\", \"uid\": \"2592e9b9-9535-4c49-b9e8-0a41b9c48d14\", \"height\": 25}]}, \"uid\": \"90c41b1a-591e-41a4-85f0-d539400f5681\", \"initialXDomain\": [2529453500.0, 2531539500.0], \"initialYDomain\": [2529453500.0, 2531539500.0], \"zoomLimits\": [1.0, null]}]},\n",
       "    );\n",
       "    </script>\n",
       "</html>"
      ],
      "text/plain": [
       "View(layout=Layout(x=0, y=0, w=6, h=6, moved=None, static=None), tracks=Tracks[TypeVar](left=None, right=None, top=[EnumTrack(tilesetUid='P0PLbQMwTYGy-5uPIQid7A', server='https://higlass.io/api/v1/', type='horizontal-gene-annotations', uid='bb38e62b-9445-485e-87ba-770e494a66bf', width=None, height=150, options={'fontSize': 16, 'name': 'hg38 Gene annotation'}, data=None, chromInfoPath=None, fromViewUid=None, x=None, y=None), EnumTrack(tilesetUid='47dfa20b5102f7edb44e596136656640', server='http://localhost:40825/tilesets/api/v1/', type='chromosome-labels', uid='d50b64d1-32f5-4eb0-85e9-c94f8b8b611c', width=None, height=25, options={'fontSize': 16}, data=None, chromInfoPath=None, fromViewUid=None, x=None, y=None), EnumTrack(tilesetUid='47dfa20b5102f7edb44e596136656640', server='http://localhost:40825/tilesets/api/v1/', type='linear-heatmap', uid='9acea9b7-63bc-41c1-8385-bdd7661038a8', width=None, height=200, options={'labelPosition': 'hidden'}, data=None, chromInfoPath=None, fromViewUid=None, x=None, y=None), EnumTrack(tilesetUid='5175a387dd4da2d13131fd51327f7d46', server='http://localhost:40825/tilesets/api/v1/', type='bedlike', uid='a22515de-1c8a-42be-af5f-0694a1bb15cd', width=None, height=25, options=None, data=None, chromInfoPath=None, fromViewUid=None, x=None, y=None), EnumTrack(tilesetUid='e310bf79cbf002d5000473d81f4e5a5e', server='http://localhost:40825/tilesets/api/v1/', type='bedlike', uid='708d470a-513a-4040-afbd-a41919b64c37', width=None, height=25, options=None, data=None, chromInfoPath=None, fromViewUid=None, x=None, y=None), EnumTrack(tilesetUid='c961bde973e0d73cc26446b7532988f9', server='http://localhost:40825/tilesets/api/v1/', type='linear-heatmap', uid='a250b64e-0648-47ec-9aee-401ff7a0917d', width=None, height=200, options={'labelPosition': 'hidden'}, data=None, chromInfoPath=None, fromViewUid=None, x=None, y=None), EnumTrack(tilesetUid='593a0f866eb80cf9d5cca970fa417527', server='http://localhost:40825/tilesets/api/v1/', type='bedlike', uid='5afde906-5b23-4c86-9adb-1f45c0833dc2', width=None, height=25, options=None, data=None, chromInfoPath=None, fromViewUid=None, x=None, y=None), EnumTrack(tilesetUid='58a9523618128cb852d3c27df2cc37e0', server='http://localhost:40825/tilesets/api/v1/', type='bedlike', uid='36210369-09bf-4c2a-8f62-3fe2031c304e', width=None, height=25, options=None, data=None, chromInfoPath=None, fromViewUid=None, x=None, y=None), EnumTrack(tilesetUid='02e969c381056765f1f31fcee7cd23be', server='http://localhost:40825/tilesets/api/v1/', type='linear-heatmap', uid='71e4eab1-d0bf-48d2-9f8c-a41bbfa219c5', width=None, height=200, options={'labelPosition': 'hidden'}, data=None, chromInfoPath=None, fromViewUid=None, x=None, y=None), EnumTrack(tilesetUid='20201ab170dd1c91ffc3328ae4d6b306', server='http://localhost:40825/tilesets/api/v1/', type='bedlike', uid='7a56c061-c9ce-44c8-b1f1-1f0e613eaed2', width=None, height=25, options=None, data=None, chromInfoPath=None, fromViewUid=None, x=None, y=None), EnumTrack(tilesetUid='80f69328ecd359f8badc793360869617', server='http://localhost:40825/tilesets/api/v1/', type='bedlike', uid='2592e9b9-9535-4c49-b9e8-0a41b9c48d14', width=None, height=25, options=None, data=None, chromInfoPath=None, fromViewUid=None, x=None, y=None)], bottom=None, center=None, whole=None, gallery=None), uid='90c41b1a-591e-41a4-85f0-d539400f5681', autocompleteSource=None, chromInfoPath=None, genomePositionSearchBox=None, genomePositionSearchBoxVisible=None, initialXDomain=(2529453500.0, 2531539500.0), initialYDomain=(2529453500.0, 2531539500.0), overlays=None, selectionView=None, zoomFixed=None, zoomLimits=(1.0, None))"
      ]
     },
     "execution_count": 9,
     "metadata": {},
     "output_type": "execute_result"
    }
   ],
   "source": [
    "domain = compute_domain(expand_coords(genes[\"ERBB2\"], chroms), cooler.Cooler(uri))\n",
    "\n",
    "width = 6\n",
    "\n",
    "view = hg.view(\n",
    "    (hga_tracks[\"WT\"], \"top\"),\n",
    "    (chrom_sizes_tracks[\"WT\"], \"top\"),\n",
    "    (cooler_tracks[\"WT\"], \"top\"),\n",
    "    (domains_tracks[\"WT\"][0], \"top\"),\n",
    "    (domains_tracks[\"WT\"][1], \"top\"),\n",
    "    (cooler_tracks[\"T1\"], \"top\"),\n",
    "    (domains_tracks[\"T1\"][0], \"top\"),\n",
    "    (domains_tracks[\"T1\"][1], \"top\"),\n",
    "    (cooler_tracks[\"C1\"], \"top\"),\n",
    "    (domains_tracks[\"C1\"][0], \"top\"),\n",
    "    (domains_tracks[\"C1\"][1], \"top\"),\n",
    "    width=width).domain(x=domain, y=domain)\n",
    "\n",
    "view"
   ]
  },
  {
   "cell_type": "code",
   "execution_count": 10,
   "id": "dbee0c93-d88f-46e4-9b8c-d648ac3e5c44",
   "metadata": {},
   "outputs": [
    {
     "data": {
      "text/html": [
       "\n",
       "<!DOCTYPE html>\n",
       "<html>\n",
       "  <head>\n",
       "    <link rel=\"stylesheet\" href=\"https://esm.sh/higlass@1.12/dist/hglib.css\">\n",
       "    <script src=\"https://unpkg.com/requirejs-toggle\"></script>\n",
       "    \n",
       "    <script src=\"https://unpkg.com/requirejs-toggle\"></script>\n",
       "  </head>\n",
       "  <body>\n",
       "    <div id=\"jupyter-hg-9058a4c708654f758bbda5b11565de32\"></div>\n",
       "  </body>\n",
       "  <script type=\"module\">\n",
       "    import hglib from \"https://esm.sh/higlass@1.12?deps=react@17,react-dom@17,pixi.js@6\";\n",
       "    hglib.viewer(\n",
       "      document.getElementById('jupyter-hg-9058a4c708654f758bbda5b11565de32'),\n",
       "      {\"editable\": true, \"viewEditable\": true, \"tracksEditable\": true, \"views\": [{\"layout\": {\"x\": 0, \"y\": 0, \"w\": 6, \"h\": 6}, \"tracks\": {\"top\": [{\"tilesetUid\": \"P0PLbQMwTYGy-5uPIQid7A\", \"server\": \"https://higlass.io/api/v1/\", \"type\": \"horizontal-gene-annotations\", \"uid\": \"bb38e62b-9445-485e-87ba-770e494a66bf\", \"height\": 150, \"options\": {\"fontSize\": 16, \"name\": \"hg38 Gene annotation\"}}, {\"tilesetUid\": \"47dfa20b5102f7edb44e596136656640\", \"server\": \"http://localhost:40825/tilesets/api/v1/\", \"type\": \"chromosome-labels\", \"uid\": \"d50b64d1-32f5-4eb0-85e9-c94f8b8b611c\", \"height\": 25, \"options\": {\"fontSize\": 16}}, {\"tilesetUid\": \"47dfa20b5102f7edb44e596136656640\", \"server\": \"http://localhost:40825/tilesets/api/v1/\", \"type\": \"linear-heatmap\", \"uid\": \"9acea9b7-63bc-41c1-8385-bdd7661038a8\", \"height\": 200, \"options\": {\"labelPosition\": \"hidden\"}}, {\"tilesetUid\": \"5175a387dd4da2d13131fd51327f7d46\", \"server\": \"http://localhost:40825/tilesets/api/v1/\", \"type\": \"bedlike\", \"uid\": \"a22515de-1c8a-42be-af5f-0694a1bb15cd\", \"height\": 25}, {\"tilesetUid\": \"e310bf79cbf002d5000473d81f4e5a5e\", \"server\": \"http://localhost:40825/tilesets/api/v1/\", \"type\": \"bedlike\", \"uid\": \"708d470a-513a-4040-afbd-a41919b64c37\", \"height\": 25}, {\"tilesetUid\": \"c961bde973e0d73cc26446b7532988f9\", \"server\": \"http://localhost:40825/tilesets/api/v1/\", \"type\": \"linear-heatmap\", \"uid\": \"a250b64e-0648-47ec-9aee-401ff7a0917d\", \"height\": 200, \"options\": {\"labelPosition\": \"hidden\"}}, {\"tilesetUid\": \"593a0f866eb80cf9d5cca970fa417527\", \"server\": \"http://localhost:40825/tilesets/api/v1/\", \"type\": \"bedlike\", \"uid\": \"5afde906-5b23-4c86-9adb-1f45c0833dc2\", \"height\": 25}, {\"tilesetUid\": \"58a9523618128cb852d3c27df2cc37e0\", \"server\": \"http://localhost:40825/tilesets/api/v1/\", \"type\": \"bedlike\", \"uid\": \"36210369-09bf-4c2a-8f62-3fe2031c304e\", \"height\": 25}, {\"tilesetUid\": \"02e969c381056765f1f31fcee7cd23be\", \"server\": \"http://localhost:40825/tilesets/api/v1/\", \"type\": \"linear-heatmap\", \"uid\": \"71e4eab1-d0bf-48d2-9f8c-a41bbfa219c5\", \"height\": 200, \"options\": {\"labelPosition\": \"hidden\"}}, {\"tilesetUid\": \"20201ab170dd1c91ffc3328ae4d6b306\", \"server\": \"http://localhost:40825/tilesets/api/v1/\", \"type\": \"bedlike\", \"uid\": \"7a56c061-c9ce-44c8-b1f1-1f0e613eaed2\", \"height\": 25}, {\"tilesetUid\": \"80f69328ecd359f8badc793360869617\", \"server\": \"http://localhost:40825/tilesets/api/v1/\", \"type\": \"bedlike\", \"uid\": \"2592e9b9-9535-4c49-b9e8-0a41b9c48d14\", \"height\": 25}]}, \"uid\": \"a73776a7-c73e-440e-b260-1d627ce91d22\", \"initialXDomain\": [1518084500.0, 1520098500.0], \"initialYDomain\": [1518084500.0, 1520098500.0], \"zoomLimits\": [1.0, null]}]},\n",
       "    );\n",
       "    </script>\n",
       "</html>"
      ],
      "text/plain": [
       "View(layout=Layout(x=0, y=0, w=6, h=6, moved=None, static=None), tracks=Tracks[TypeVar](left=None, right=None, top=[EnumTrack(tilesetUid='P0PLbQMwTYGy-5uPIQid7A', server='https://higlass.io/api/v1/', type='horizontal-gene-annotations', uid='bb38e62b-9445-485e-87ba-770e494a66bf', width=None, height=150, options={'fontSize': 16, 'name': 'hg38 Gene annotation'}, data=None, chromInfoPath=None, fromViewUid=None, x=None, y=None), EnumTrack(tilesetUid='47dfa20b5102f7edb44e596136656640', server='http://localhost:40825/tilesets/api/v1/', type='chromosome-labels', uid='d50b64d1-32f5-4eb0-85e9-c94f8b8b611c', width=None, height=25, options={'fontSize': 16}, data=None, chromInfoPath=None, fromViewUid=None, x=None, y=None), EnumTrack(tilesetUid='47dfa20b5102f7edb44e596136656640', server='http://localhost:40825/tilesets/api/v1/', type='linear-heatmap', uid='9acea9b7-63bc-41c1-8385-bdd7661038a8', width=None, height=200, options={'labelPosition': 'hidden'}, data=None, chromInfoPath=None, fromViewUid=None, x=None, y=None), EnumTrack(tilesetUid='5175a387dd4da2d13131fd51327f7d46', server='http://localhost:40825/tilesets/api/v1/', type='bedlike', uid='a22515de-1c8a-42be-af5f-0694a1bb15cd', width=None, height=25, options=None, data=None, chromInfoPath=None, fromViewUid=None, x=None, y=None), EnumTrack(tilesetUid='e310bf79cbf002d5000473d81f4e5a5e', server='http://localhost:40825/tilesets/api/v1/', type='bedlike', uid='708d470a-513a-4040-afbd-a41919b64c37', width=None, height=25, options=None, data=None, chromInfoPath=None, fromViewUid=None, x=None, y=None), EnumTrack(tilesetUid='c961bde973e0d73cc26446b7532988f9', server='http://localhost:40825/tilesets/api/v1/', type='linear-heatmap', uid='a250b64e-0648-47ec-9aee-401ff7a0917d', width=None, height=200, options={'labelPosition': 'hidden'}, data=None, chromInfoPath=None, fromViewUid=None, x=None, y=None), EnumTrack(tilesetUid='593a0f866eb80cf9d5cca970fa417527', server='http://localhost:40825/tilesets/api/v1/', type='bedlike', uid='5afde906-5b23-4c86-9adb-1f45c0833dc2', width=None, height=25, options=None, data=None, chromInfoPath=None, fromViewUid=None, x=None, y=None), EnumTrack(tilesetUid='58a9523618128cb852d3c27df2cc37e0', server='http://localhost:40825/tilesets/api/v1/', type='bedlike', uid='36210369-09bf-4c2a-8f62-3fe2031c304e', width=None, height=25, options=None, data=None, chromInfoPath=None, fromViewUid=None, x=None, y=None), EnumTrack(tilesetUid='02e969c381056765f1f31fcee7cd23be', server='http://localhost:40825/tilesets/api/v1/', type='linear-heatmap', uid='71e4eab1-d0bf-48d2-9f8c-a41bbfa219c5', width=None, height=200, options={'labelPosition': 'hidden'}, data=None, chromInfoPath=None, fromViewUid=None, x=None, y=None), EnumTrack(tilesetUid='20201ab170dd1c91ffc3328ae4d6b306', server='http://localhost:40825/tilesets/api/v1/', type='bedlike', uid='7a56c061-c9ce-44c8-b1f1-1f0e613eaed2', width=None, height=25, options=None, data=None, chromInfoPath=None, fromViewUid=None, x=None, y=None), EnumTrack(tilesetUid='80f69328ecd359f8badc793360869617', server='http://localhost:40825/tilesets/api/v1/', type='bedlike', uid='2592e9b9-9535-4c49-b9e8-0a41b9c48d14', width=None, height=25, options=None, data=None, chromInfoPath=None, fromViewUid=None, x=None, y=None)], bottom=None, center=None, whole=None, gallery=None), uid='a73776a7-c73e-440e-b260-1d627ce91d22', autocompleteSource=None, chromInfoPath=None, genomePositionSearchBox=None, genomePositionSearchBoxVisible=None, initialXDomain=(1518084500.0, 1520098500.0), initialYDomain=(1518084500.0, 1520098500.0), overlays=None, selectionView=None, zoomFixed=None, zoomLimits=(1.0, None))"
      ]
     },
     "execution_count": 10,
     "metadata": {},
     "output_type": "execute_result"
    }
   ],
   "source": [
    "domain = compute_domain(expand_coords(genes[\"MYC\"], chroms), cooler.Cooler(uri))\n",
    "\n",
    "width = 6\n",
    "\n",
    "view = hg.view(\n",
    "    (hga_tracks[\"WT\"], \"top\"),\n",
    "    (chrom_sizes_tracks[\"WT\"], \"top\"),\n",
    "    (cooler_tracks[\"WT\"], \"top\"),\n",
    "    (domains_tracks[\"WT\"][0], \"top\"),\n",
    "    (domains_tracks[\"WT\"][1], \"top\"),\n",
    "    (cooler_tracks[\"T1\"], \"top\"),\n",
    "    (domains_tracks[\"T1\"][0], \"top\"),\n",
    "    (domains_tracks[\"T1\"][1], \"top\"),\n",
    "    (cooler_tracks[\"C1\"], \"top\"),\n",
    "    (domains_tracks[\"C1\"][0], \"top\"),\n",
    "    (domains_tracks[\"C1\"][1], \"top\"),\n",
    "    width=width).domain(x=domain, y=domain)\n",
    "\n",
    "view"
   ]
  }
 ],
 "metadata": {
  "kernelspec": {
   "display_name": "devel",
   "language": "python",
   "name": "devel"
  },
  "language_info": {
   "codemirror_mode": {
    "name": "ipython",
    "version": 3
   },
   "file_extension": ".py",
   "mimetype": "text/x-python",
   "name": "python",
   "nbconvert_exporter": "python",
   "pygments_lexer": "ipython3",
   "version": "3.12.4"
  }
 },
 "nbformat": 4,
 "nbformat_minor": 5
}
