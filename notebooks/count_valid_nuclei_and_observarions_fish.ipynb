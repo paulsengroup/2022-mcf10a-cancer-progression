{
 "cells": [
  {
   "cell_type": "code",
   "execution_count": 1,
   "id": "262dc36c-c794-4ad1-9042-72b8605ae814",
   "metadata": {},
   "outputs": [],
   "source": [
    "import h5py\n",
    "import glob\n",
    "import pandas as pd"
   ]
  },
  {
   "cell_type": "code",
   "execution_count": 2,
   "id": "80ed9904-45e4-4918-91dd-56c86f342dbf",
   "metadata": {},
   "outputs": [],
   "source": [
    "def compute_ploidy(df):\n",
    "    reds = (df[\"color\"] == \"red\").sum()\n",
    "    greens = (df[\"color\"] == \"green\").sum()\n",
    "\n",
    "    return reds, greens\n",
    "\n",
    "\n",
    "def filter_by_ploidy(df, min_ploidy):\n",
    "    if min_ploidy < 1:\n",
    "        return df\n",
    "    dfs = []\n",
    "\n",
    "    for cell, dff in df.groupby(\"cell\"):\n",
    "        dff1 = dff[dff[\"color\"] == \"red\"]\n",
    "        dff2 = dff[dff[\"color\"] == \"green\"]\n",
    "\n",
    "        if len(dff1) < min_ploidy or len(dff2) < min_ploidy:\n",
    "            continue\n",
    "\n",
    "        dff[\"cell\"] = cell\n",
    "        dfs.append(dff)\n",
    "\n",
    "    return pd.concat(dfs)"
   ]
  },
  {
   "cell_type": "code",
   "execution_count": 3,
   "id": "5cba9e6f-4874-4828-8cb5-4bd681d5d034",
   "metadata": {},
   "outputs": [],
   "source": [
    "oc_thresh = 0.95"
   ]
  },
  {
   "cell_type": "code",
   "execution_count": 4,
   "id": "393ff7a8-736a-4289-ab6a-d47626d3da79",
   "metadata": {},
   "outputs": [
    {
     "name": "stdout",
     "output_type": "stream",
     "text": [
      "path\tvalid_nuclei\tnuclei\n",
      "../data/output/fish/MCF10A_C1_AD_segmented_nuclei_with_blobs.h5\t95\t129\n",
      "../data/output/fish/MCF10A_C1_AE_segmented_nuclei_with_blobs.h5\t43\t70\n",
      "../data/output/fish/MCF10A_WT_AD_segmented_nuclei_with_blobs.h5\t34\t45\n",
      "../data/output/fish/MCF10A_WT_AE_segmented_nuclei_with_blobs.h5\t28\t37\n",
      "../data/output/fish/MCF10A_WT_BE_segmented_nuclei_with_blobs.h5\t1\t11\n"
     ]
    }
   ],
   "source": [
    "print(\"path\\tvalid_nuclei\\tnuclei\")\n",
    "for path in sorted(glob.glob(\"../data/output/fish/MCF10A_*.h5\")):\n",
    "    with h5py.File(path) as h5:\n",
    "        num_nuclei = 0\n",
    "        tot_nuclei = 0\n",
    "        for img in list(h5):\n",
    "            scores = h5[f\"{img}/scores\"][:]\n",
    "            num_nuclei += (scores >= oc_thresh).sum()\n",
    "            tot_nuclei += len(scores)\n",
    "\n",
    "        print(f\"{path}\\t{num_nuclei}\\t{tot_nuclei}\")"
   ]
  },
  {
   "cell_type": "code",
   "execution_count": 5,
   "id": "e2c41b2d-19fb-4ab0-934b-db0202e5b423",
   "metadata": {},
   "outputs": [
    {
     "name": "stdout",
     "output_type": "stream",
     "text": [
      "path\tnum_red_blobs\tnum_green_blobs\n",
      "../data/output/fish/blobs/MCF10A_C1_AD.blobs.tsv.gz\t269\t272\n",
      "../data/output/fish/blobs/MCF10A_C1_AE.blobs.tsv.gz\t140\t86\n",
      "../data/output/fish/blobs/MCF10A_WT_AD.blobs.tsv.gz\t62\t61\n",
      "../data/output/fish/blobs/MCF10A_WT_AE.blobs.tsv.gz\t62\t60\n",
      "../data/output/fish/blobs/MCF10A_WT_BE.blobs.tsv.gz\t2\t2\n"
     ]
    }
   ],
   "source": [
    "print(\"path\\tnum_red_blobs\\tnum_green_blobs\")\n",
    "for path in sorted(glob.glob(\"../data/output/fish/blobs/MCF10A_*.tsv.gz\")):\n",
    "    df = filter_by_ploidy(pd.read_table(path), min_ploidy=2)\n",
    "    num_red_blobs = (df[\"color\"] == \"red\").sum()\n",
    "    num_green_blobs = (df[\"color\"] == \"green\").sum()\n",
    "    print(f\"{path}\\t{num_red_blobs}\\t{num_green_blobs}\")"
   ]
  },
  {
   "cell_type": "code",
   "execution_count": null,
   "id": "37a3ead4-121a-45c1-b438-f882a90e8aea",
   "metadata": {},
   "outputs": [],
   "source": []
  }
 ],
 "metadata": {
  "kernelspec": {
   "display_name": "devel",
   "language": "python",
   "name": "devel"
  },
  "language_info": {
   "codemirror_mode": {
    "name": "ipython",
    "version": 3
   },
   "file_extension": ".py",
   "mimetype": "text/x-python",
   "name": "python",
   "nbconvert_exporter": "python",
   "pygments_lexer": "ipython3",
   "version": "3.12.4"
  }
 },
 "nbformat": 4,
 "nbformat_minor": 5
}
